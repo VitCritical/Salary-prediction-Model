{
  "nbformat": 4,
  "nbformat_minor": 0,
  "metadata": {
    "colab": {
      "provenance": []
    },
    "kernelspec": {
      "name": "python3",
      "display_name": "Python 3"
    },
    "language_info": {
      "name": "python"
    }
  },
  "cells": [
    {
      "cell_type": "code",
      "source": [
        "from pyspark.sql import SparkSession\n",
        "from pyspark.sql.functions import *\n",
        "from pyspark.sql.types import *\n",
        "\n",
        "spark = SparkSession.builder.appName(\"LinearRegression\").getOrCreate()"
      ],
      "metadata": {
        "id": "42ut3UsgwlF5"
      },
      "execution_count": 29,
      "outputs": []
    },
    {
      "cell_type": "markdown",
      "metadata": {
        "id": "8f9a0718"
      },
      "source": [
        "### 1. Data Loading and Initial Inspection\n",
        "\n",
        "The process begins by loading the `Employe_Performance_dataset.csv` file into a Spark DataFrame and displaying the first few rows to understand the data structure and content."
      ]
    },
    {
      "cell_type": "code",
      "source": [
        "df = spark.read.csv(\"/content/Employe_Performance_dataset.csv\", header=True, inferSchema=True)\n",
        "df.show()"
      ],
      "metadata": {
        "colab": {
          "base_uri": "https://localhost:8080/"
        },
        "id": "zs9N59cCuSlL",
        "outputId": "a34c08cf-e361-4170-a10c-7cac6be3facb"
      },
      "execution_count": 30,
      "outputs": [
        {
          "output_type": "stream",
          "name": "stdout",
          "text": [
            "+---+------------------+---+------+----------+------+------------+-----------------+----------+--------+-----------+-------+\n",
            "| ID|              Name|Age|Gender|Department|Salary|Joining Date|Performance Score|Experience|  Status|   Location|Session|\n",
            "+---+------------------+---+------+----------+------+------------+-----------------+----------+--------+-----------+-------+\n",
            "|  1|      Cory Escobar| 48|Female|        HR|  5641|  2015-05-03|              2.0|        16|  Active|   New York|  Night|\n",
            "|  2|   Timothy Sanchez| 25| Other|     Sales|  4249|  2020-11-09|              2.0|        11|Inactive|Los Angeles|Evening|\n",
            "|  3|      Chad Nichols| 57| Other|     Sales|  3058|  2019-02-12|             NULL|         1|Inactive|   New York|Morning|\n",
            "|  4|Christine Williams| 58|Female|        IT|  5895|  2017-09-08|              2.0|        13|Inactive|Los Angeles|Evening|\n",
            "|  5|      Amber Harris| 35| Other|        IT|  4317|  2020-02-15|              5.0|        16|Inactive|   New York|Evening|\n",
            "|  6|       Ashley Howe| 29|Female|        HR|  2591|  2016-06-24|              1.0|         6|  Active|    Chicago|Evening|\n",
            "|  7|       David Olson| 39|Female|     Sales|  6826|  2023-05-11|             NULL|         4|  Active|   New York|  Night|\n",
            "|  8|      Amanda Baker| 52| Other|        HR|  6285|  2015-04-01|             NULL|         8|Inactive|    Chicago|Evening|\n",
            "|  9|     Jeremy Wright| 63|Female|     Sales|  9862|  2024-02-07|             NULL|         3|Inactive|   New York|  Night|\n",
            "| 10|    Brian Faulkner| 30|  Male|        IT|  8202|  2018-05-26|              1.0|         9|  Active|Los Angeles|Morning|\n",
            "| 11|       Nicole Bell| 42|Female|     Sales|  5336|  2015-01-28|              3.0|         7|  Active|Los Angeles|Evening|\n",
            "| 12| Rodney Richardson| 60| Other|        HR|  6908|  2015-03-14|              4.0|        19|  Active|    Chicago|  Night|\n",
            "| 13|   Joshua Robinson| 61|  Male|        IT|  5688|  2020-06-21|             NULL|         4|Inactive|    Chicago|  Night|\n",
            "| 14| Benjamin Callahan| 34|  Male|        IT|  5593|  2019-06-23|             NULL|         2|Inactive|Los Angeles|  Night|\n",
            "| 15|Matthew Collins MD| 31|Female|     Sales|  8568|  2020-06-01|             NULL|        20|Inactive|Los Angeles|Evening|\n",
            "| 16|       Gary Cooley| 62|  Male|        HR|  5386|  2017-07-25|             NULL|         2|Inactive|    Chicago|Morning|\n",
            "| 17|    Jonathan Perez| 59|  Male|        HR|  6586|  2019-02-19|              3.0|         7|Inactive|Los Angeles|Evening|\n",
            "| 18|Jacqueline Randall| 31|Female|        HR|  3519|  2018-05-18|              4.0|         6|  Active|   New York|Morning|\n",
            "| 19|    Nancy Stephens| 38|  Male|        HR|  9061|  2017-07-16|              5.0|        16|Inactive|    Chicago|  Night|\n",
            "| 20|      Victoria Fox| 57|Female|        HR|  7251|  2023-06-07|             NULL|        10|  Active|Los Angeles|Evening|\n",
            "+---+------------------+---+------+----------+------+------------+-----------------+----------+--------+-----------+-------+\n",
            "only showing top 20 rows\n",
            "\n"
          ]
        }
      ]
    },
    {
      "cell_type": "markdown",
      "metadata": {
        "id": "2ee3fd90"
      },
      "source": [
        "### 2. Data Cleaning and Preparation\n",
        "\n",
        "Missing values in the 'Performance Score' column were imputed using the mode of the column. A new feature, 'Tenure', was engineered by calculating the difference in years between the current date and the 'Joining Date'."
      ]
    },
    {
      "cell_type": "code",
      "source": [
        "mode_df = df.select(mode(\"Performance Score\")).collect()[0][0]\n",
        "df = df.fillna({\"Performance Score\":mode_df})\n",
        "df.show()"
      ],
      "metadata": {
        "id": "GNBd9iViwkjf",
        "colab": {
          "base_uri": "https://localhost:8080/"
        },
        "outputId": "d6e7989d-26d0-409b-cd3d-a385f71cd33d"
      },
      "execution_count": 31,
      "outputs": [
        {
          "output_type": "stream",
          "name": "stdout",
          "text": [
            "+---+------------------+---+------+----------+------+------------+-----------------+----------+--------+-----------+-------+\n",
            "| ID|              Name|Age|Gender|Department|Salary|Joining Date|Performance Score|Experience|  Status|   Location|Session|\n",
            "+---+------------------+---+------+----------+------+------------+-----------------+----------+--------+-----------+-------+\n",
            "|  1|      Cory Escobar| 48|Female|        HR|  5641|  2015-05-03|              2.0|        16|  Active|   New York|  Night|\n",
            "|  2|   Timothy Sanchez| 25| Other|     Sales|  4249|  2020-11-09|              2.0|        11|Inactive|Los Angeles|Evening|\n",
            "|  3|      Chad Nichols| 57| Other|     Sales|  3058|  2019-02-12|              2.0|         1|Inactive|   New York|Morning|\n",
            "|  4|Christine Williams| 58|Female|        IT|  5895|  2017-09-08|              2.0|        13|Inactive|Los Angeles|Evening|\n",
            "|  5|      Amber Harris| 35| Other|        IT|  4317|  2020-02-15|              5.0|        16|Inactive|   New York|Evening|\n",
            "|  6|       Ashley Howe| 29|Female|        HR|  2591|  2016-06-24|              1.0|         6|  Active|    Chicago|Evening|\n",
            "|  7|       David Olson| 39|Female|     Sales|  6826|  2023-05-11|              2.0|         4|  Active|   New York|  Night|\n",
            "|  8|      Amanda Baker| 52| Other|        HR|  6285|  2015-04-01|              2.0|         8|Inactive|    Chicago|Evening|\n",
            "|  9|     Jeremy Wright| 63|Female|     Sales|  9862|  2024-02-07|              2.0|         3|Inactive|   New York|  Night|\n",
            "| 10|    Brian Faulkner| 30|  Male|        IT|  8202|  2018-05-26|              1.0|         9|  Active|Los Angeles|Morning|\n",
            "| 11|       Nicole Bell| 42|Female|     Sales|  5336|  2015-01-28|              3.0|         7|  Active|Los Angeles|Evening|\n",
            "| 12| Rodney Richardson| 60| Other|        HR|  6908|  2015-03-14|              4.0|        19|  Active|    Chicago|  Night|\n",
            "| 13|   Joshua Robinson| 61|  Male|        IT|  5688|  2020-06-21|              2.0|         4|Inactive|    Chicago|  Night|\n",
            "| 14| Benjamin Callahan| 34|  Male|        IT|  5593|  2019-06-23|              2.0|         2|Inactive|Los Angeles|  Night|\n",
            "| 15|Matthew Collins MD| 31|Female|     Sales|  8568|  2020-06-01|              2.0|        20|Inactive|Los Angeles|Evening|\n",
            "| 16|       Gary Cooley| 62|  Male|        HR|  5386|  2017-07-25|              2.0|         2|Inactive|    Chicago|Morning|\n",
            "| 17|    Jonathan Perez| 59|  Male|        HR|  6586|  2019-02-19|              3.0|         7|Inactive|Los Angeles|Evening|\n",
            "| 18|Jacqueline Randall| 31|Female|        HR|  3519|  2018-05-18|              4.0|         6|  Active|   New York|Morning|\n",
            "| 19|    Nancy Stephens| 38|  Male|        HR|  9061|  2017-07-16|              5.0|        16|Inactive|    Chicago|  Night|\n",
            "| 20|      Victoria Fox| 57|Female|        HR|  7251|  2023-06-07|              2.0|        10|  Active|Los Angeles|Evening|\n",
            "+---+------------------+---+------+----------+------+------------+-----------------+----------+--------+-----------+-------+\n",
            "only showing top 20 rows\n",
            "\n"
          ]
        }
      ]
    },
    {
      "cell_type": "code",
      "source": [
        "df = df.withColumn(\"Tenure\",year(current_date())-year(to_date(df[\"Joining Date\"])))\n",
        "df.show()"
      ],
      "metadata": {
        "id": "K2kP5n5HwKtL",
        "colab": {
          "base_uri": "https://localhost:8080/"
        },
        "outputId": "55997b98-1be3-474f-ce6c-dc600068c7b5"
      },
      "execution_count": 32,
      "outputs": [
        {
          "output_type": "stream",
          "name": "stdout",
          "text": [
            "+---+------------------+---+------+----------+------+------------+-----------------+----------+--------+-----------+-------+------+\n",
            "| ID|              Name|Age|Gender|Department|Salary|Joining Date|Performance Score|Experience|  Status|   Location|Session|Tenure|\n",
            "+---+------------------+---+------+----------+------+------------+-----------------+----------+--------+-----------+-------+------+\n",
            "|  1|      Cory Escobar| 48|Female|        HR|  5641|  2015-05-03|              2.0|        16|  Active|   New York|  Night|    10|\n",
            "|  2|   Timothy Sanchez| 25| Other|     Sales|  4249|  2020-11-09|              2.0|        11|Inactive|Los Angeles|Evening|     5|\n",
            "|  3|      Chad Nichols| 57| Other|     Sales|  3058|  2019-02-12|              2.0|         1|Inactive|   New York|Morning|     6|\n",
            "|  4|Christine Williams| 58|Female|        IT|  5895|  2017-09-08|              2.0|        13|Inactive|Los Angeles|Evening|     8|\n",
            "|  5|      Amber Harris| 35| Other|        IT|  4317|  2020-02-15|              5.0|        16|Inactive|   New York|Evening|     5|\n",
            "|  6|       Ashley Howe| 29|Female|        HR|  2591|  2016-06-24|              1.0|         6|  Active|    Chicago|Evening|     9|\n",
            "|  7|       David Olson| 39|Female|     Sales|  6826|  2023-05-11|              2.0|         4|  Active|   New York|  Night|     2|\n",
            "|  8|      Amanda Baker| 52| Other|        HR|  6285|  2015-04-01|              2.0|         8|Inactive|    Chicago|Evening|    10|\n",
            "|  9|     Jeremy Wright| 63|Female|     Sales|  9862|  2024-02-07|              2.0|         3|Inactive|   New York|  Night|     1|\n",
            "| 10|    Brian Faulkner| 30|  Male|        IT|  8202|  2018-05-26|              1.0|         9|  Active|Los Angeles|Morning|     7|\n",
            "| 11|       Nicole Bell| 42|Female|     Sales|  5336|  2015-01-28|              3.0|         7|  Active|Los Angeles|Evening|    10|\n",
            "| 12| Rodney Richardson| 60| Other|        HR|  6908|  2015-03-14|              4.0|        19|  Active|    Chicago|  Night|    10|\n",
            "| 13|   Joshua Robinson| 61|  Male|        IT|  5688|  2020-06-21|              2.0|         4|Inactive|    Chicago|  Night|     5|\n",
            "| 14| Benjamin Callahan| 34|  Male|        IT|  5593|  2019-06-23|              2.0|         2|Inactive|Los Angeles|  Night|     6|\n",
            "| 15|Matthew Collins MD| 31|Female|     Sales|  8568|  2020-06-01|              2.0|        20|Inactive|Los Angeles|Evening|     5|\n",
            "| 16|       Gary Cooley| 62|  Male|        HR|  5386|  2017-07-25|              2.0|         2|Inactive|    Chicago|Morning|     8|\n",
            "| 17|    Jonathan Perez| 59|  Male|        HR|  6586|  2019-02-19|              3.0|         7|Inactive|Los Angeles|Evening|     6|\n",
            "| 18|Jacqueline Randall| 31|Female|        HR|  3519|  2018-05-18|              4.0|         6|  Active|   New York|Morning|     7|\n",
            "| 19|    Nancy Stephens| 38|  Male|        HR|  9061|  2017-07-16|              5.0|        16|Inactive|    Chicago|  Night|     8|\n",
            "| 20|      Victoria Fox| 57|Female|        HR|  7251|  2023-06-07|              2.0|        10|  Active|Los Angeles|Evening|     2|\n",
            "+---+------------------+---+------+----------+------+------------+-----------------+----------+--------+-----------+-------+------+\n",
            "only showing top 20 rows\n",
            "\n"
          ]
        }
      ]
    },
    {
      "cell_type": "markdown",
      "metadata": {
        "id": "a6c4d7c1"
      },
      "source": [
        "### 3. Feature Engineering\n",
        "\n",
        "Categorical features 'Session' and 'Gender' were converted into numerical indices using StringIndexer. These indexed features, along with 'Experience' and 'Tenure', were assembled into a single feature vector using VectorAssembler for use in the machine learning model."
      ]
    },
    {
      "cell_type": "code",
      "source": [
        "from pyspark.ml.feature import StringIndexer, VectorAssembler, OneHotEncoder\n",
        "strIdx = StringIndexer(inputCol=\"Session\",outputCol=\"Session_Idx\")\n",
        "df = strIdx.fit(df).transform(df)\n",
        "df.show()"
      ],
      "metadata": {
        "colab": {
          "base_uri": "https://localhost:8080/"
        },
        "id": "yYwhIZmdVP4S",
        "outputId": "3c43da83-bc2f-41d1-b259-dca071811ae3"
      },
      "execution_count": 33,
      "outputs": [
        {
          "output_type": "stream",
          "name": "stdout",
          "text": [
            "+---+------------------+---+------+----------+------+------------+-----------------+----------+--------+-----------+-------+------+-----------+\n",
            "| ID|              Name|Age|Gender|Department|Salary|Joining Date|Performance Score|Experience|  Status|   Location|Session|Tenure|Session_Idx|\n",
            "+---+------------------+---+------+----------+------+------------+-----------------+----------+--------+-----------+-------+------+-----------+\n",
            "|  1|      Cory Escobar| 48|Female|        HR|  5641|  2015-05-03|              2.0|        16|  Active|   New York|  Night|    10|        0.0|\n",
            "|  2|   Timothy Sanchez| 25| Other|     Sales|  4249|  2020-11-09|              2.0|        11|Inactive|Los Angeles|Evening|     5|        2.0|\n",
            "|  3|      Chad Nichols| 57| Other|     Sales|  3058|  2019-02-12|              2.0|         1|Inactive|   New York|Morning|     6|        1.0|\n",
            "|  4|Christine Williams| 58|Female|        IT|  5895|  2017-09-08|              2.0|        13|Inactive|Los Angeles|Evening|     8|        2.0|\n",
            "|  5|      Amber Harris| 35| Other|        IT|  4317|  2020-02-15|              5.0|        16|Inactive|   New York|Evening|     5|        2.0|\n",
            "|  6|       Ashley Howe| 29|Female|        HR|  2591|  2016-06-24|              1.0|         6|  Active|    Chicago|Evening|     9|        2.0|\n",
            "|  7|       David Olson| 39|Female|     Sales|  6826|  2023-05-11|              2.0|         4|  Active|   New York|  Night|     2|        0.0|\n",
            "|  8|      Amanda Baker| 52| Other|        HR|  6285|  2015-04-01|              2.0|         8|Inactive|    Chicago|Evening|    10|        2.0|\n",
            "|  9|     Jeremy Wright| 63|Female|     Sales|  9862|  2024-02-07|              2.0|         3|Inactive|   New York|  Night|     1|        0.0|\n",
            "| 10|    Brian Faulkner| 30|  Male|        IT|  8202|  2018-05-26|              1.0|         9|  Active|Los Angeles|Morning|     7|        1.0|\n",
            "| 11|       Nicole Bell| 42|Female|     Sales|  5336|  2015-01-28|              3.0|         7|  Active|Los Angeles|Evening|    10|        2.0|\n",
            "| 12| Rodney Richardson| 60| Other|        HR|  6908|  2015-03-14|              4.0|        19|  Active|    Chicago|  Night|    10|        0.0|\n",
            "| 13|   Joshua Robinson| 61|  Male|        IT|  5688|  2020-06-21|              2.0|         4|Inactive|    Chicago|  Night|     5|        0.0|\n",
            "| 14| Benjamin Callahan| 34|  Male|        IT|  5593|  2019-06-23|              2.0|         2|Inactive|Los Angeles|  Night|     6|        0.0|\n",
            "| 15|Matthew Collins MD| 31|Female|     Sales|  8568|  2020-06-01|              2.0|        20|Inactive|Los Angeles|Evening|     5|        2.0|\n",
            "| 16|       Gary Cooley| 62|  Male|        HR|  5386|  2017-07-25|              2.0|         2|Inactive|    Chicago|Morning|     8|        1.0|\n",
            "| 17|    Jonathan Perez| 59|  Male|        HR|  6586|  2019-02-19|              3.0|         7|Inactive|Los Angeles|Evening|     6|        2.0|\n",
            "| 18|Jacqueline Randall| 31|Female|        HR|  3519|  2018-05-18|              4.0|         6|  Active|   New York|Morning|     7|        1.0|\n",
            "| 19|    Nancy Stephens| 38|  Male|        HR|  9061|  2017-07-16|              5.0|        16|Inactive|    Chicago|  Night|     8|        0.0|\n",
            "| 20|      Victoria Fox| 57|Female|        HR|  7251|  2023-06-07|              2.0|        10|  Active|Los Angeles|Evening|     2|        2.0|\n",
            "+---+------------------+---+------+----------+------+------------+-----------------+----------+--------+-----------+-------+------+-----------+\n",
            "only showing top 20 rows\n",
            "\n"
          ]
        }
      ]
    },
    {
      "cell_type": "code",
      "source": [
        "genderIdx = StringIndexer(inputCols=[\"Gender\"], outputCols=[\"GenderIdx\"])\n",
        "df = genderIdx.fit(df).transform(df)\n",
        "df.show()"
      ],
      "metadata": {
        "colab": {
          "base_uri": "https://localhost:8080/"
        },
        "id": "cWelbAw1VRJA",
        "outputId": "f5f207f6-066c-439a-a1b2-fcf7be6ddc81"
      },
      "execution_count": 34,
      "outputs": [
        {
          "output_type": "stream",
          "name": "stdout",
          "text": [
            "+---+------------------+---+------+----------+------+------------+-----------------+----------+--------+-----------+-------+------+-----------+---------+\n",
            "| ID|              Name|Age|Gender|Department|Salary|Joining Date|Performance Score|Experience|  Status|   Location|Session|Tenure|Session_Idx|GenderIdx|\n",
            "+---+------------------+---+------+----------+------+------------+-----------------+----------+--------+-----------+-------+------+-----------+---------+\n",
            "|  1|      Cory Escobar| 48|Female|        HR|  5641|  2015-05-03|              2.0|        16|  Active|   New York|  Night|    10|        0.0|      1.0|\n",
            "|  2|   Timothy Sanchez| 25| Other|     Sales|  4249|  2020-11-09|              2.0|        11|Inactive|Los Angeles|Evening|     5|        2.0|      0.0|\n",
            "|  3|      Chad Nichols| 57| Other|     Sales|  3058|  2019-02-12|              2.0|         1|Inactive|   New York|Morning|     6|        1.0|      0.0|\n",
            "|  4|Christine Williams| 58|Female|        IT|  5895|  2017-09-08|              2.0|        13|Inactive|Los Angeles|Evening|     8|        2.0|      1.0|\n",
            "|  5|      Amber Harris| 35| Other|        IT|  4317|  2020-02-15|              5.0|        16|Inactive|   New York|Evening|     5|        2.0|      0.0|\n",
            "|  6|       Ashley Howe| 29|Female|        HR|  2591|  2016-06-24|              1.0|         6|  Active|    Chicago|Evening|     9|        2.0|      1.0|\n",
            "|  7|       David Olson| 39|Female|     Sales|  6826|  2023-05-11|              2.0|         4|  Active|   New York|  Night|     2|        0.0|      1.0|\n",
            "|  8|      Amanda Baker| 52| Other|        HR|  6285|  2015-04-01|              2.0|         8|Inactive|    Chicago|Evening|    10|        2.0|      0.0|\n",
            "|  9|     Jeremy Wright| 63|Female|     Sales|  9862|  2024-02-07|              2.0|         3|Inactive|   New York|  Night|     1|        0.0|      1.0|\n",
            "| 10|    Brian Faulkner| 30|  Male|        IT|  8202|  2018-05-26|              1.0|         9|  Active|Los Angeles|Morning|     7|        1.0|      2.0|\n",
            "| 11|       Nicole Bell| 42|Female|     Sales|  5336|  2015-01-28|              3.0|         7|  Active|Los Angeles|Evening|    10|        2.0|      1.0|\n",
            "| 12| Rodney Richardson| 60| Other|        HR|  6908|  2015-03-14|              4.0|        19|  Active|    Chicago|  Night|    10|        0.0|      0.0|\n",
            "| 13|   Joshua Robinson| 61|  Male|        IT|  5688|  2020-06-21|              2.0|         4|Inactive|    Chicago|  Night|     5|        0.0|      2.0|\n",
            "| 14| Benjamin Callahan| 34|  Male|        IT|  5593|  2019-06-23|              2.0|         2|Inactive|Los Angeles|  Night|     6|        0.0|      2.0|\n",
            "| 15|Matthew Collins MD| 31|Female|     Sales|  8568|  2020-06-01|              2.0|        20|Inactive|Los Angeles|Evening|     5|        2.0|      1.0|\n",
            "| 16|       Gary Cooley| 62|  Male|        HR|  5386|  2017-07-25|              2.0|         2|Inactive|    Chicago|Morning|     8|        1.0|      2.0|\n",
            "| 17|    Jonathan Perez| 59|  Male|        HR|  6586|  2019-02-19|              3.0|         7|Inactive|Los Angeles|Evening|     6|        2.0|      2.0|\n",
            "| 18|Jacqueline Randall| 31|Female|        HR|  3519|  2018-05-18|              4.0|         6|  Active|   New York|Morning|     7|        1.0|      1.0|\n",
            "| 19|    Nancy Stephens| 38|  Male|        HR|  9061|  2017-07-16|              5.0|        16|Inactive|    Chicago|  Night|     8|        0.0|      2.0|\n",
            "| 20|      Victoria Fox| 57|Female|        HR|  7251|  2023-06-07|              2.0|        10|  Active|Los Angeles|Evening|     2|        2.0|      1.0|\n",
            "+---+------------------+---+------+----------+------+------------+-----------------+----------+--------+-----------+-------+------+-----------+---------+\n",
            "only showing top 20 rows\n",
            "\n"
          ]
        }
      ]
    },
    {
      "cell_type": "code",
      "source": [
        "df.show(10)"
      ],
      "metadata": {
        "colab": {
          "base_uri": "https://localhost:8080/"
        },
        "id": "3VL-E0cfW3bu",
        "outputId": "8353b93b-fbd3-4e5b-a023-9122258b7dc9"
      },
      "execution_count": 35,
      "outputs": [
        {
          "output_type": "stream",
          "name": "stdout",
          "text": [
            "+---+------------------+---+------+----------+------+------------+-----------------+----------+--------+-----------+-------+------+-----------+---------+\n",
            "| ID|              Name|Age|Gender|Department|Salary|Joining Date|Performance Score|Experience|  Status|   Location|Session|Tenure|Session_Idx|GenderIdx|\n",
            "+---+------------------+---+------+----------+------+------------+-----------------+----------+--------+-----------+-------+------+-----------+---------+\n",
            "|  1|      Cory Escobar| 48|Female|        HR|  5641|  2015-05-03|              2.0|        16|  Active|   New York|  Night|    10|        0.0|      1.0|\n",
            "|  2|   Timothy Sanchez| 25| Other|     Sales|  4249|  2020-11-09|              2.0|        11|Inactive|Los Angeles|Evening|     5|        2.0|      0.0|\n",
            "|  3|      Chad Nichols| 57| Other|     Sales|  3058|  2019-02-12|              2.0|         1|Inactive|   New York|Morning|     6|        1.0|      0.0|\n",
            "|  4|Christine Williams| 58|Female|        IT|  5895|  2017-09-08|              2.0|        13|Inactive|Los Angeles|Evening|     8|        2.0|      1.0|\n",
            "|  5|      Amber Harris| 35| Other|        IT|  4317|  2020-02-15|              5.0|        16|Inactive|   New York|Evening|     5|        2.0|      0.0|\n",
            "|  6|       Ashley Howe| 29|Female|        HR|  2591|  2016-06-24|              1.0|         6|  Active|    Chicago|Evening|     9|        2.0|      1.0|\n",
            "|  7|       David Olson| 39|Female|     Sales|  6826|  2023-05-11|              2.0|         4|  Active|   New York|  Night|     2|        0.0|      1.0|\n",
            "|  8|      Amanda Baker| 52| Other|        HR|  6285|  2015-04-01|              2.0|         8|Inactive|    Chicago|Evening|    10|        2.0|      0.0|\n",
            "|  9|     Jeremy Wright| 63|Female|     Sales|  9862|  2024-02-07|              2.0|         3|Inactive|   New York|  Night|     1|        0.0|      1.0|\n",
            "| 10|    Brian Faulkner| 30|  Male|        IT|  8202|  2018-05-26|              1.0|         9|  Active|Los Angeles|Morning|     7|        1.0|      2.0|\n",
            "+---+------------------+---+------+----------+------+------------+-----------------+----------+--------+-----------+-------+------+-----------+---------+\n",
            "only showing top 10 rows\n",
            "\n"
          ]
        }
      ]
    },
    {
      "cell_type": "markdown",
      "metadata": {
        "id": "f20c8fec"
      },
      "source": [
        "### 4. Exploratory Data Analysis (EDA)\n",
        "\n",
        "Several visualizations were generated to explore the relationships between different features:\n",
        "\n",
        "*   **Department Distribution:** A pie chart shows the percentage of employees in each department.\n",
        "*   **Salary vs. Experience:** A line plot visualizes the average salary across different experience levels.\n",
        "*   **Employee Status Distribution:** A bar chart displays the number of active and inactive employees.\n",
        "*   **Session vs. Experience:** A grouped bar chart illustrates the distribution of employee sessions by experience level.\n",
        "*   **Average Salary by Department and Gender:** A grouped bar chart shows the average salary for each gender within each department.\n",
        "*   **Average Salary by Department and Tenure:** Average salary is shown for each department and tenure combination.\n",
        "*   **Average Salary by Tenure:** A bar chart displays the average salary across different tenure levels.\n",
        "*   **Average Salary by Department and Status:** A grouped bar chart shows the average salary for active and inactive employees within each department."
      ]
    },
    {
      "cell_type": "code",
      "metadata": {
        "colab": {
          "base_uri": "https://localhost:8080/",
          "height": 675
        },
        "id": "GhvqbqQKY8LY",
        "outputId": "f36f29ae-97cc-4df1-e02f-d8775b1442db"
      },
      "source": [
        "import matplotlib.pyplot as plt\n",
        "import seaborn as sns\n",
        "import numpy as np\n",
        "\n",
        "department_counts = df.groupBy(\"Department\").count()\n",
        "department_counts_pd = department_counts.toPandas()\n",
        "\n",
        "plt.figure(figsize=(8, 8))\n",
        "plt.pie(department_counts_pd['count'], labels=department_counts_pd['Department'], autopct='%1.1f%%', startangle=140)\n",
        "plt.title('Percentage of Employees in Each Department')\n",
        "plt.axis('equal')\n",
        "plt.show()"
      ],
      "execution_count": 36,
      "outputs": [
        {
          "output_type": "display_data",
          "data": {
            "text/plain": [
              "<Figure size 800x800 with 1 Axes>"
            ],
            "image/png": "[encoded data removed]"
          },
          "metadata": {}
        }
      ]
    },
    {
      "cell_type": "markdown",
      "metadata": {
        "id": "8ad21b9b"
      },
      "source": [
        "## Salary vs experience\n"
      ]
    },
    {
      "cell_type": "code",
      "source": [
        "import matplotlib.pyplot as plt\n",
        "import pandas as pd # Import pandas for plotting\n",
        "\n",
        "# Group by Experience and calculate the average salary\n",
        "experience_salary = df.groupBy(\"Experience\").agg(avg(\"Salary\").alias(\"Average Salary\"))\n",
        "\n",
        "# Convert to Pandas DataFrame\n",
        "experience_salary_pd = experience_salary.toPandas()\n",
        "\n",
        "# Sort by Experience for better visualization\n",
        "experience_salary_pd = experience_salary_pd.sort_values(by='Experience')\n",
        "\n",
        "plt.figure(figsize=(10, 6))\n",
        "# Create a line plot of average salary vs experience\n",
        "plt.plot(experience_salary_pd['Experience'], experience_salary_pd['Average Salary'])\n",
        "plt.xlabel('Experience (Years)')\n",
        "plt.ylabel('Average Salary')\n",
        "plt.title('Average Salary vs Experience')\n",
        "plt.xticks(experience_salary_pd['Experience']) # Set ticks to be the experience years\n",
        "plt.grid(True)\n",
        "plt.show()"
      ],
      "metadata": {
        "colab": {
          "base_uri": "https://localhost:8080/",
          "height": 503
        },
        "id": "A87C_WPTo3PV",
        "outputId": "f478c0a4-6a1e-4b60-bdd8-718278aebd66"
      },
      "execution_count": 37,
      "outputs": [
        {
          "output_type": "display_data",
          "data": {
            "text/plain": [
              "<Figure size 1000x600 with 1 Axes>"
            ],
            "image/png": "[encoded data removed]"
          },
          "metadata": {}
        }
      ]
    },
    {
      "cell_type": "markdown",
      "metadata": {
        "id": "bee76f4a"
      },
      "source": [
        "### Employee Status vs No. of Employees\n"
      ]
    },
    {
      "cell_type": "code",
      "metadata": {
        "colab": {
          "base_uri": "https://localhost:8080/",
          "height": 564
        },
        "id": "6d09f43c",
        "outputId": "524d92a6-9672-4bc4-fc2d-7e5d7d0df10c"
      },
      "source": [
        "status_counts = df.groupBy(\"Status\").count()\n",
        "status_counts_pd = status_counts.toPandas()\n",
        "\n",
        "plt.figure(figsize=(8, 6))\n",
        "plt.bar(status_counts_pd['Status'], status_counts_pd['count'], color=['skyblue', 'lightcoral'])\n",
        "plt.xlabel('Status')\n",
        "plt.ylabel('Number of Employees')\n",
        "plt.title('Distribution of Employee Status')\n",
        "plt.show()"
      ],
      "execution_count": 38,
      "outputs": [
        {
          "output_type": "display_data",
          "data": {
            "text/plain": [
              "<Figure size 800x600 with 1 Axes>"
            ],
            "image/png": "[encoded data removed]"
          },
          "metadata": {}
        }
      ]
    },
    {
      "cell_type": "markdown",
      "metadata": {
        "id": "480f6950"
      },
      "source": [
        "## Session vs experience"
      ]
    },
    {
      "cell_type": "code",
      "metadata": {
        "colab": {
          "base_uri": "https://localhost:8080/",
          "height": 439
        },
        "id": "0b7be318",
        "outputId": "7ecbfd87-176a-4cb3-fec3-69d99c984f96"
      },
      "source": [
        "session_experience_counts = df.groupBy(\"Experience\", \"Session\").count()\n",
        "session_experience_counts_pd = session_experience_counts.toPandas()\n",
        "\n",
        "pivot_df = session_experience_counts_pd.pivot(index='Experience', columns='Session', values='count').fillna(0)\n",
        "\n",
        "plt.figure(figsize=(15, 8))\n",
        "pivot_df.plot(kind='bar', figsize=(15, 8))\n",
        "plt.xlabel(\"Experience (Years)\")\n",
        "plt.ylabel(\"Number of Employees\")\n",
        "plt.title(\"Employee Session Distribution by Experience Level\")\n",
        "plt.xticks(rotation=45, ha='right')\n",
        "plt.tight_layout()\n",
        "plt.show()"
      ],
      "execution_count": 39,
      "outputs": [
        {
          "output_type": "display_data",
          "data": {
            "text/plain": [
              "<Figure size 1500x800 with 0 Axes>"
            ]
          },
          "metadata": {}
        },
        {
          "output_type": "display_data",
          "data": {
            "text/plain": [
              "<Figure size 1500x800 with 1 Axes>"
            ],
            "image/png": "[encoded data removed]"
          },
          "metadata": {}
        }
      ]
    },
    {
      "cell_type": "markdown",
      "metadata": {
        "id": "69828bbd"
      },
      "source": [
        "## Summary:\n",
        "\n",
        "### Data Analysis Key Findings\n",
        "\n",
        "*   The distribution of employees across different departments was visualized using a pie chart.\n",
        "*   A scatter plot of Salary versus Experience was successfully generated.\n",
        "*   A bar graph comparing the number of active and inactive employees was generated, showing the distribution of employee status.\n",
        "*   A grouped bar chart was successfully created and displayed, visualizing the relationship between Session and Experience levels.\n",
        "\n",
        "### Insights or Next Steps\n",
        "\n",
        "*   Analyze the specific percentage breakdown of employees in each department to identify potential areas for resource allocation or restructuring.\n",
        "*   Investigate the correlation between Salary and Experience based on the scatter plot to understand the salary structure.\n",
        "*   Examine the distribution of active and inactive employees to identify potential reasons for inactivity and strategies for re-engagement or workforce planning.\n",
        "*   Further explore the relationship between Session and Experience levels to understand if certain experience groups are more prevalent in specific sessions and the implications for scheduling and resource management.\n"
      ]
    },
    {
      "cell_type": "code",
      "metadata": {
        "colab": {
          "base_uri": "https://localhost:8080/"
        },
        "id": "5fe488b9",
        "outputId": "91736c99-ee1c-4cec-998c-db607ab644a7"
      },
      "source": [
        "department_gender_salary = df.groupBy(\"Department\", \"Gender\").agg(avg(\"Salary\").alias(\"Average Salary\"))\n",
        "department_gender_salary.show()"
      ],
      "execution_count": 40,
      "outputs": [
        {
          "output_type": "stream",
          "name": "stdout",
          "text": [
            "+----------+------+------------------+\n",
            "|Department|Gender|    Average Salary|\n",
            "+----------+------+------------------+\n",
            "|        IT|Female| 6118.203539823009|\n",
            "|        HR|  Male| 6249.429752066116|\n",
            "|        HR| Other| 5955.782178217822|\n",
            "|     Sales|  Male| 5994.067307692308|\n",
            "|        IT|  Male| 6002.320388349514|\n",
            "|     Sales| Other| 5871.146551724138|\n",
            "|     Sales|Female| 5570.728813559322|\n",
            "|        IT| Other| 5802.292682926829|\n",
            "|        HR|Female|5689.0990099009905|\n",
            "+----------+------+------------------+\n",
            "\n"
          ]
        }
      ]
    },
    {
      "cell_type": "code",
      "metadata": {
        "colab": {
          "base_uri": "https://localhost:8080/",
          "height": 175
        },
        "id": "95033718",
        "outputId": "2873dfb1-4d15-45e1-9a63-689ad4f115eb"
      },
      "source": [
        "department_gender_salary_pd = department_gender_salary.toPandas()\n",
        "pivot_df_salary = department_gender_salary_pd.pivot(index='Department', columns='Gender', values='Average Salary').fillna(0)\n",
        "display(pivot_df_salary)"
      ],
      "execution_count": 41,
      "outputs": [
        {
          "output_type": "display_data",
          "data": {
            "text/plain": [
              "Gender           Female         Male        Other\n",
              "Department                                       \n",
              "HR          5689.099010  6249.429752  5955.782178\n",
              "IT          6118.203540  6002.320388  5802.292683\n",
              "Sales       5570.728814  5994.067308  5871.146552"
            ],
            "text/html": [
              "\n",
              "  <div id=\"df-0f362c2f-8e1a-4d3d-ac18-f2c795dc0362\" class=\"colab-df-container\">\n",
              "    <div>\n",
              "<style scoped>\n",
              "    .dataframe tbody tr th:only-of-type {\n",
              "        vertical-align: middle;\n",
              "    }\n",
              "\n",
              "    .dataframe tbody tr th {\n",
              "        vertical-align: top;\n",
              "    }\n",
              "\n",
              "    .dataframe thead th {\n",
              "        text-align: right;\n",
              "    }\n",
              "</style>\n",
              "<table border=\"1\" class=\"dataframe\">\n",
              "  <thead>\n",
              "    <tr style=\"text-align: right;\">\n",
              "      <th>Gender</th>\n",
              "      <th>Female</th>\n",
              "      <th>Male</th>\n",
              "      <th>Other</th>\n",
              "    </tr>\n",
              "    <tr>\n",
              "      <th>Department</th>\n",
              "      <th></th>\n",
              "      <th></th>\n",
              "      <th></th>\n",
              "    </tr>\n",
              "  </thead>\n",
              "  <tbody>\n",
              "    <tr>\n",
              "      <th>HR</th>\n",
              "      <td>5689.099010</td>\n",
              "      <td>6249.429752</td>\n",
              "      <td>5955.782178</td>\n",
              "    </tr>\n",
              "    <tr>\n",
              "      <th>IT</th>\n",
              "      <td>6118.203540</td>\n",
              "      <td>6002.320388</td>\n",
              "      <td>5802.292683</td>\n",
              "    </tr>\n",
              "    <tr>\n",
              "      <th>Sales</th>\n",
              "      <td>5570.728814</td>\n",
              "      <td>5994.067308</td>\n",
              "      <td>5871.146552</td>\n",
              "    </tr>\n",
              "  </tbody>\n",
              "</table>\n",
              "</div>\n",
              "    <div class=\"colab-df-buttons\">\n",
              "\n",
              "  <div class=\"colab-df-container\">\n",
              "    <button class=\"colab-df-convert\" onclick=\"convertToInteractive('df-0f362c2f-8e1a-4d3d-ac18-f2c795dc0362')\"\n",
              "            title=\"Convert this dataframe to an interactive table.\"\n",
              "            style=\"display:none;\">\n",
              "\n",
              "  <svg xmlns=\"http://www.w3.org/2000/svg\" height=\"24px\" viewBox=\"0 -960 960 960\">\n",
              "    <path d=\"M120-120v-720h720v720H120Zm60-500h600v-160H180v160Zm220 220h160v-160H400v160Zm0 220h160v-160H400v160ZM180-400h160v-160H180v160Zm440 0h160v-160H620v160ZM180-180h160v-160H180v160Zm440 0h160v-160H620v160Z\"/>\n",
              "  </svg>\n",
              "    </button>\n",
              "\n",
              "  <style>\n",
              "    .colab-df-container {\n",
              "      display:flex;\n",
              "      gap: 12px;\n",
              "    }\n",
              "\n",
              "    .colab-df-convert {\n",
              "      background-color: #E8F0FE;\n",
              "      border: none;\n",
              "      border-radius: 50%;\n",
              "      cursor: pointer;\n",
              "      display: none;\n",
              "      fill: #1967D2;\n",
              "      height: 32px;\n",
              "      padding: 0 0 0 0;\n",
              "      width: 32px;\n",
              "    }\n",
              "\n",
              "    .colab-df-convert:hover {\n",
              "      background-color: #E2EBFA;\n",
              "      box-shadow: 0px 1px 2px rgba(60, 64, 67, 0.3), 0px 1px 3px 1px rgba(60, 64, 67, 0.15);\n",
              "      fill: #174EA6;\n",
              "    }\n",
              "\n",
              "    .colab-df-buttons div {\n",
              "      margin-bottom: 4px;\n",
              "    }\n",
              "\n",
              "    [theme=dark] .colab-df-convert {\n",
              "      background-color: #3B4455;\n",
              "      fill: #D2E3FC;\n",
              "    }\n",
              "\n",
              "    [theme=dark] .colab-df-convert:hover {\n",
              "      background-color: #434B5C;\n",
              "      box-shadow: 0px 1px 3px 1px rgba(0, 0, 0, 0.15);\n",
              "      filter: drop-shadow(0px 1px 2px rgba(0, 0, 0, 0.3));\n",
              "      fill: #FFFFFF;\n",
              "    }\n",
              "  </style>\n",
              "\n",
              "    <script>\n",
              "      const buttonEl =\n",
              "        document.querySelector('#df-0f362c2f-8e1a-4d3d-ac18-f2c795dc0362 button.colab-df-convert');\n",
              "      buttonEl.style.display =\n",
              "        google.colab.kernel.accessAllowed ? 'block' : 'none';\n",
              "\n",
              "      async function convertToInteractive(key) {\n",
              "        const element = document.querySelector('#df-0f362c2f-8e1a-4d3d-ac18-f2c795dc0362');\n",
              "        const dataTable =\n",
              "          await google.colab.kernel.invokeFunction('convertToInteractive',\n",
              "                                                    [key], {});\n",
              "        if (!dataTable) return;\n",
              "\n",
              "        const docLinkHtml = 'Like what you see? Visit the ' +\n",
              "          '<a target=\"_blank\" href=https://colab.research.google.com/notebooks/data_table.ipynb>data table notebook</a>'\n",
              "          + ' to learn more about interactive tables.';\n",
              "        element.innerHTML = '';\n",
              "        dataTable['output_type'] = 'display_data';\n",
              "        await google.colab.output.renderOutput(dataTable, element);\n",
              "        const docLink = document.createElement('div');\n",
              "        docLink.innerHTML = docLinkHtml;\n",
              "        element.appendChild(docLink);\n",
              "      }\n",
              "    </script>\n",
              "  </div>\n",
              "\n",
              "\n",
              "    <div id=\"df-a2ab22bc-d790-4467-9db0-1bca96a44588\">\n",
              "      <button class=\"colab-df-quickchart\" onclick=\"quickchart('df-a2ab22bc-d790-4467-9db0-1bca96a44588')\"\n",
              "                title=\"Suggest charts\"\n",
              "                style=\"display:none;\">\n",
              "\n",
              "<svg xmlns=\"http://www.w3.org/2000/svg\" height=\"24px\"viewBox=\"0 0 24 24\"\n",
              "     width=\"24px\">\n",
              "    <g>\n",
              "        <path d=\"M19 3H5c-1.1 0-2 .9-2 2v14c0 1.1.9 2 2 2h14c1.1 0 2-.9 2-2V5c0-1.1-.9-2-2-2zM9 17H7v-7h2v7zm4 0h-2V7h2v10zm4 0h-2v-4h2v4z\"/>\n",
              "    </g>\n",
              "</svg>\n",
              "      </button>\n",
              "\n",
              "<style>\n",
              "  .colab-df-quickchart {\n",
              "      --bg-color: #E8F0FE;\n",
              "      --fill-color: #1967D2;\n",
              "      --hover-bg-color: #E2EBFA;\n",
              "      --hover-fill-color: #174EA6;\n",
              "      --disabled-fill-color: #AAA;\n",
              "      --disabled-bg-color: #DDD;\n",
              "  }\n",
              "\n",
              "  [theme=dark] .colab-df-quickchart {\n",
              "      --bg-color: #3B4455;\n",
              "      --fill-color: #D2E3FC;\n",
              "      --hover-bg-color: #434B5C;\n",
              "      --hover-fill-color: #FFFFFF;\n",
              "      --disabled-bg-color: #3B4455;\n",
              "      --disabled-fill-color: #666;\n",
              "  }\n",
              "\n",
              "  .colab-df-quickchart {\n",
              "    background-color: var(--bg-color);\n",
              "    border: none;\n",
              "    border-radius: 50%;\n",
              "    cursor: pointer;\n",
              "    display: none;\n",
              "    fill: var(--fill-color);\n",
              "    height: 32px;\n",
              "    padding: 0;\n",
              "    width: 32px;\n",
              "  }\n",
              "\n",
              "  .colab-df-quickchart:hover {\n",
              "    background-color: var(--hover-bg-color);\n",
              "    box-shadow: 0 1px 2px rgba(60, 64, 67, 0.3), 0 1px 3px 1px rgba(60, 64, 67, 0.15);\n",
              "    fill: var(--button-hover-fill-color);\n",
              "  }\n",
              "\n",
              "  .colab-df-quickchart-complete:disabled,\n",
              "  .colab-df-quickchart-complete:disabled:hover {\n",
              "    background-color: var(--disabled-bg-color);\n",
              "    fill: var(--disabled-fill-color);\n",
              "    box-shadow: none;\n",
              "  }\n",
              "\n",
              "  .colab-df-spinner {\n",
              "    border: 2px solid var(--fill-color);\n",
              "    border-color: transparent;\n",
              "    border-bottom-color: var(--fill-color);\n",
              "    animation:\n",
              "      spin 1s steps(1) infinite;\n",
              "  }\n",
              "\n",
              "  @keyframes spin {\n",
              "    0% {\n",
              "      border-color: transparent;\n",
              "      border-bottom-color: var(--fill-color);\n",
              "      border-left-color: var(--fill-color);\n",
              "    }\n",
              "    20% {\n",
              "      border-color: transparent;\n",
              "      border-left-color: var(--fill-color);\n",
              "      border-top-color: var(--fill-color);\n",
              "    }\n",
              "    30% {\n",
              "      border-color: transparent;\n",
              "      border-left-color: var(--fill-color);\n",
              "      border-top-color: var(--fill-color);\n",
              "      border-right-color: var(--fill-color);\n",
              "    }\n",
              "    40% {\n",
              "      border-color: transparent;\n",
              "      border-right-color: var(--fill-color);\n",
              "      border-top-color: var(--fill-color);\n",
              "    }\n",
              "    60% {\n",
              "      border-color: transparent;\n",
              "      border-right-color: var(--fill-color);\n",
              "    }\n",
              "    80% {\n",
              "      border-color: transparent;\n",
              "      border-right-color: var(--fill-color);\n",
              "      border-bottom-color: var(--fill-color);\n",
              "    }\n",
              "    90% {\n",
              "      border-color: transparent;\n",
              "      border-bottom-color: var(--fill-color);\n",
              "    }\n",
              "  }\n",
              "</style>\n",
              "\n",
              "      <script>\n",
              "        async function quickchart(key) {\n",
              "          const quickchartButtonEl =\n",
              "            document.querySelector('#' + key + ' button');\n",
              "          quickchartButtonEl.disabled = true;  // To prevent multiple clicks.\n",
              "          quickchartButtonEl.classList.add('colab-df-spinner');\n",
              "          try {\n",
              "            const charts = await google.colab.kernel.invokeFunction(\n",
              "                'suggestCharts', [key], {});\n",
              "          } catch (error) {\n",
              "            console.error('Error during call to suggestCharts:', error);\n",
              "          }\n",
              "          quickchartButtonEl.classList.remove('colab-df-spinner');\n",
              "          quickchartButtonEl.classList.add('colab-df-quickchart-complete');\n",
              "        }\n",
              "        (() => {\n",
              "          let quickchartButtonEl =\n",
              "            document.querySelector('#df-a2ab22bc-d790-4467-9db0-1bca96a44588 button');\n",
              "          quickchartButtonEl.style.display =\n",
              "            google.colab.kernel.accessAllowed ? 'block' : 'none';\n",
              "        })();\n",
              "      </script>\n",
              "    </div>\n",
              "\n",
              "  <div id=\"id_efdaed07-a2a0-4605-b7a7-42b55727154b\">\n",
              "    <style>\n",
              "      .colab-df-generate {\n",
              "        background-color: #E8F0FE;\n",
              "        border: none;\n",
              "        border-radius: 50%;\n",
              "        cursor: pointer;\n",
              "        display: none;\n",
              "        fill: #1967D2;\n",
              "        height: 32px;\n",
              "        padding: 0 0 0 0;\n",
              "        width: 32px;\n",
              "      }\n",
              "\n",
              "      .colab-df-generate:hover {\n",
              "        background-color: #E2EBFA;\n",
              "        box-shadow: 0px 1px 2px rgba(60, 64, 67, 0.3), 0px 1px 3px 1px rgba(60, 64, 67, 0.15);\n",
              "        fill: #174EA6;\n",
              "      }\n",
              "\n",
              "      [theme=dark] .colab-df-generate {\n",
              "        background-color: #3B4455;\n",
              "        fill: #D2E3FC;\n",
              "      }\n",
              "\n",
              "      [theme=dark] .colab-df-generate:hover {\n",
              "        background-color: #434B5C;\n",
              "        box-shadow: 0px 1px 3px 1px rgba(0, 0, 0, 0.15);\n",
              "        filter: drop-shadow(0px 1px 2px rgba(0, 0, 0, 0.3));\n",
              "        fill: #FFFFFF;\n",
              "      }\n",
              "    </style>\n",
              "    <button class=\"colab-df-generate\" onclick=\"generateWithVariable('pivot_df_salary')\"\n",
              "            title=\"Generate code using this dataframe.\"\n",
              "            style=\"display:none;\">\n",
              "\n",
              "  <svg xmlns=\"http://www.w3.org/2000/svg\" height=\"24px\"viewBox=\"0 0 24 24\"\n",
              "       width=\"24px\">\n",
              "    <path d=\"M7,19H8.4L18.45,9,17,7.55,7,17.6ZM5,21V16.75L18.45,3.32a2,2,0,0,1,2.83,0l1.4,1.43a1.91,1.91,0,0,1,.58,1.4,1.91,1.91,0,0,1-.58,1.4L9.25,21ZM18.45,9,17,7.55Zm-12,3A5.31,5.31,0,0,0,4.9,8.1,5.31,5.31,0,0,0,1,6.5,5.31,5.31,0,0,0,4.9,4.9,5.31,5.31,0,0,0,6.5,1,5.31,5.31,0,0,0,8.1,4.9,5.31,5.31,0,0,0,12,6.5,5.46,5.46,0,0,0,6.5,12Z\"/>\n",
              "  </svg>\n",
              "    </button>\n",
              "    <script>\n",
              "      (() => {\n",
              "      const buttonEl =\n",
              "        document.querySelector('#id_efdaed07-a2a0-4605-b7a7-42b55727154b button.colab-df-generate');\n",
              "      buttonEl.style.display =\n",
              "        google.colab.kernel.accessAllowed ? 'block' : 'none';\n",
              "\n",
              "      buttonEl.onclick = () => {\n",
              "        google.colab.notebook.generateWithVariable('pivot_df_salary');\n",
              "      }\n",
              "      })();\n",
              "    </script>\n",
              "  </div>\n",
              "\n",
              "    </div>\n",
              "  </div>\n"
            ],
            "application/vnd.google.colaboratory.intrinsic+json": {
              "type": "dataframe",
              "variable_name": "pivot_df_salary",
              "summary": "{\n  \"name\": \"pivot_df_salary\",\n  \"rows\": 3,\n  \"fields\": [\n    {\n      \"column\": \"Department\",\n      \"properties\": {\n        \"dtype\": \"string\",\n        \"num_unique_values\": 3,\n        \"samples\": [\n          \"HR\",\n          \"IT\",\n          \"Sales\"\n        ],\n        \"semantic_type\": \"\",\n        \"description\": \"\"\n      }\n    },\n    {\n      \"column\": \"Female\",\n      \"properties\": {\n        \"dtype\": \"number\",\n        \"std\": 288.0598250592694,\n        \"min\": 5570.728813559322,\n        \"max\": 6118.203539823009,\n        \"num_unique_values\": 3,\n        \"samples\": [\n          5689.0990099009905,\n          6118.203539823009,\n          5570.728813559322\n        ],\n        \"semantic_type\": \"\",\n        \"description\": \"\"\n      }\n    },\n    {\n      \"column\": \"Male\",\n      \"properties\": {\n        \"dtype\": \"number\",\n        \"std\": 145.10980266297437,\n        \"min\": 5994.067307692308,\n        \"max\": 6249.429752066116,\n        \"num_unique_values\": 3,\n        \"samples\": [\n          6249.429752066116,\n          6002.320388349514,\n          5994.067307692308\n        ],\n        \"semantic_type\": \"\",\n        \"description\": \"\"\n      }\n    },\n    {\n      \"column\": \"Other\",\n      \"properties\": {\n        \"dtype\": \"number\",\n        \"std\": 76.87985180897422,\n        \"min\": 5802.292682926829,\n        \"max\": 5955.782178217822,\n        \"num_unique_values\": 3,\n        \"samples\": [\n          5955.782178217822,\n          5802.292682926829,\n          5871.146551724138\n        ],\n        \"semantic_type\": \"\",\n        \"description\": \"\"\n      }\n    }\n  ]\n}"
            }
          },
          "metadata": {}
        }
      ]
    },
    {
      "cell_type": "markdown",
      "metadata": {
        "id": "24537c67"
      },
      "source": [
        "## Visualize with grouped bar chart\n",
        "\n",
        "### Subtask:\n",
        "Create a grouped bar chart using the pivoted Pandas DataFrame to visualize the average salary by department and the chosen categorical variable.\n"
      ]
    },
    {
      "cell_type": "markdown",
      "metadata": {
        "id": "d05e028d"
      },
      "source": [
        "**Reasoning**:\n",
        "Generate a grouped bar chart using the pivoted Pandas DataFrame to visualize the average salary by department and the chosen categorical variable.\n",
        "\n"
      ]
    },
    {
      "cell_type": "code",
      "metadata": {
        "colab": {
          "base_uri": "https://localhost:8080/",
          "height": 460
        },
        "id": "700f4378",
        "outputId": "1aff28a7-4d0b-489a-858b-f95b688f1117"
      },
      "source": [
        "plt.figure(figsize=(12, 7))\n",
        "ax = pivot_df_salary.plot(kind='bar', ax=plt.gca())\n",
        "plt.ylabel(\"Average Salary\")\n",
        "plt.title(\"Average Salary by Department and Gender\")\n",
        "plt.xticks(rotation=45, ha='right')\n",
        "plt.tight_layout()\n",
        "plt.show()"
      ],
      "execution_count": 42,
      "outputs": [
        {
          "output_type": "display_data",
          "data": {
            "text/plain": [
              "<Figure size 1200x700 with 1 Axes>"
            ],
            "image/png": "[encoded data removed]"
          },
          "metadata": {}
        }
      ]
    },
    {
      "cell_type": "markdown",
      "metadata": {
        "id": "4e1db49d"
      },
      "source": [
        "## Summary:\n",
        "\n",
        "### Data Analysis Key Findings\n",
        "\n",
        "* The average salary was calculated for each department and gender combination.\n",
        "* The pivoted data shows the average salary for each gender within each department, with missing values filled with 0.\n",
        "* The visualization effectively displays the average salary across different departments, segmented by gender.\n",
        "\n",
        "### Insights or Next Steps\n",
        "\n",
        "* Analyze the differences in average salaries between genders within each department to identify potential disparities.\n",
        "* Investigate the reasons behind significant salary differences observed in certain departments.\n"
      ]
    },
    {
      "cell_type": "markdown",
      "metadata": {
        "id": "6d275176"
      },
      "source": [
        "## Department-wise Salary Distribution by Tenure"
      ]
    },
    {
      "cell_type": "code",
      "metadata": {
        "colab": {
          "base_uri": "https://localhost:8080/"
        },
        "id": "dc7a9e8e",
        "outputId": "bfeeb6ea-698c-45ab-adbd-3d59b4222556"
      },
      "source": [
        "department_tenure_salary = df.groupBy(\"Department\", \"Tenure\").agg(avg(\"Salary\").alias(\"Average Salary\"))\n",
        "department_tenure_salary.show()"
      ],
      "execution_count": 43,
      "outputs": [
        {
          "output_type": "stream",
          "name": "stdout",
          "text": [
            "+----------+------+-----------------+\n",
            "|Department|Tenure|   Average Salary|\n",
            "+----------+------+-----------------+\n",
            "|        HR|     8|6227.285714285715|\n",
            "|        HR|     6|6143.363636363636|\n",
            "|     Sales|     9|6101.416666666667|\n",
            "|        HR|     2|5996.840909090909|\n",
            "|     Sales|     4|5237.414634146341|\n",
            "|        IT|    10|5308.911764705882|\n",
            "|     Sales|    11|           7894.0|\n",
            "|        IT|     3|5607.482758620689|\n",
            "|     Sales|     3|           6181.3|\n",
            "|        IT|     8|         6350.875|\n",
            "|        HR|     5|5759.205882352941|\n",
            "|     Sales|     5|5316.545454545455|\n",
            "|        IT|     6|6116.354838709677|\n",
            "|     Sales|     7|5665.181818181818|\n",
            "|        IT|     7|6358.972222222223|\n",
            "|        IT|     1|5787.241379310345|\n",
            "|     Sales|     1|7022.741935483871|\n",
            "|     Sales|     8|5854.428571428572|\n",
            "|        HR|     3|6191.695652173913|\n",
            "|        IT|     2|       5493.09375|\n",
            "+----------+------+-----------------+\n",
            "only showing top 20 rows\n",
            "\n"
          ]
        }
      ]
    },
    {
      "cell_type": "code",
      "metadata": {
        "colab": {
          "base_uri": "https://localhost:8080/",
          "height": 195
        },
        "id": "6c572261",
        "outputId": "57cb0350-bfba-4f66-b880-6a4fe2a73208"
      },
      "source": [
        "department_tenure_salary_pd = department_tenure_salary.toPandas()\n",
        "pivot_df_tenure_salary = department_tenure_salary_pd.pivot(index='Department', columns='Tenure', values='Average Salary').fillna(0)\n",
        "display(pivot_df_tenure_salary)"
      ],
      "execution_count": 44,
      "outputs": [
        {
          "output_type": "display_data",
          "data": {
            "text/plain": [
              "Tenure               1            2            3            4            5   \\\n",
              "Department                                                                    \n",
              "HR          6278.892857  5996.840909  6191.695652  6068.024390  5759.205882   \n",
              "IT          5787.241379  5493.093750  5607.482759  6151.108108  6239.078947   \n",
              "Sales       7022.741935  5672.545455  6181.300000  5237.414634  5316.545455   \n",
              "\n",
              "Tenure               6            7            8            9            10  \\\n",
              "Department                                                                    \n",
              "HR          6143.363636  5854.419355  6227.285714  5341.500000  6190.280000   \n",
              "IT          6116.354839  6358.972222  6350.875000  6134.263158  5308.911765   \n",
              "Sales       6194.812500  5665.181818  5854.428571  6101.416667  5038.896552   \n",
              "\n",
              "Tenure          11  \n",
              "Department          \n",
              "HR             0.0  \n",
              "IT          5671.0  \n",
              "Sales       7894.0  "
            ],
            "text/html": [
              "\n",
              "  <div id=\"df-f6f2f4bc-234c-4498-aa2e-c9c09dc3b02a\" class=\"colab-df-container\">\n",
              "    <div>\n",
              "<style scoped>\n",
              "    .dataframe tbody tr th:only-of-type {\n",
              "        vertical-align: middle;\n",
              "    }\n",
              "\n",
              "    .dataframe tbody tr th {\n",
              "        vertical-align: top;\n",
              "    }\n",
              "\n",
              "    .dataframe thead th {\n",
              "        text-align: right;\n",
              "    }\n",
              "</style>\n",
              "<table border=\"1\" class=\"dataframe\">\n",
              "  <thead>\n",
              "    <tr style=\"text-align: right;\">\n",
              "      <th>Tenure</th>\n",
              "      <th>1</th>\n",
              "      <th>2</th>\n",
              "      <th>3</th>\n",
              "      <th>4</th>\n",
              "      <th>5</th>\n",
              "      <th>6</th>\n",
              "      <th>7</th>\n",
              "      <th>8</th>\n",
              "      <th>9</th>\n",
              "      <th>10</th>\n",
              "      <th>11</th>\n",
              "    </tr>\n",
              "    <tr>\n",
              "      <th>Department</th>\n",
              "      <th></th>\n",
              "      <th></th>\n",
              "      <th></th>\n",
              "      <th></th>\n",
              "      <th></th>\n",
              "      <th></th>\n",
              "      <th></th>\n",
              "      <th></th>\n",
              "      <th></th>\n",
              "      <th></th>\n",
              "      <th></th>\n",
              "    </tr>\n",
              "  </thead>\n",
              "  <tbody>\n",
              "    <tr>\n",
              "      <th>HR</th>\n",
              "      <td>6278.892857</td>\n",
              "      <td>5996.840909</td>\n",
              "      <td>6191.695652</td>\n",
              "      <td>6068.024390</td>\n",
              "      <td>5759.205882</td>\n",
              "      <td>6143.363636</td>\n",
              "      <td>5854.419355</td>\n",
              "      <td>6227.285714</td>\n",
              "      <td>5341.500000</td>\n",
              "      <td>6190.280000</td>\n",
              "      <td>0.0</td>\n",
              "    </tr>\n",
              "    <tr>\n",
              "      <th>IT</th>\n",
              "      <td>5787.241379</td>\n",
              "      <td>5493.093750</td>\n",
              "      <td>5607.482759</td>\n",
              "      <td>6151.108108</td>\n",
              "      <td>6239.078947</td>\n",
              "      <td>6116.354839</td>\n",
              "      <td>6358.972222</td>\n",
              "      <td>6350.875000</td>\n",
              "      <td>6134.263158</td>\n",
              "      <td>5308.911765</td>\n",
              "      <td>5671.0</td>\n",
              "    </tr>\n",
              "    <tr>\n",
              "      <th>Sales</th>\n",
              "      <td>7022.741935</td>\n",
              "      <td>5672.545455</td>\n",
              "      <td>6181.300000</td>\n",
              "      <td>5237.414634</td>\n",
              "      <td>5316.545455</td>\n",
              "      <td>6194.812500</td>\n",
              "      <td>5665.181818</td>\n",
              "      <td>5854.428571</td>\n",
              "      <td>6101.416667</td>\n",
              "      <td>5038.896552</td>\n",
              "      <td>7894.0</td>\n",
              "    </tr>\n",
              "  </tbody>\n",
              "</table>\n",
              "</div>\n",
              "    <div class=\"colab-df-buttons\">\n",
              "\n",
              "  <div class=\"colab-df-container\">\n",
              "    <button class=\"colab-df-convert\" onclick=\"convertToInteractive('df-f6f2f4bc-234c-4498-aa2e-c9c09dc3b02a')\"\n",
              "            title=\"Convert this dataframe to an interactive table.\"\n",
              "            style=\"display:none;\">\n",
              "\n",
              "  <svg xmlns=\"http://www.w3.org/2000/svg\" height=\"24px\" viewBox=\"0 -960 960 960\">\n",
              "    <path d=\"M120-120v-720h720v720H120Zm60-500h600v-160H180v160Zm220 220h160v-160H400v160Zm0 220h160v-160H400v160ZM180-400h160v-160H180v160Zm440 0h160v-160H620v160ZM180-180h160v-160H180v160Zm440 0h160v-160H620v160Z\"/>\n",
              "  </svg>\n",
              "    </button>\n",
              "\n",
              "  <style>\n",
              "    .colab-df-container {\n",
              "      display:flex;\n",
              "      gap: 12px;\n",
              "    }\n",
              "\n",
              "    .colab-df-convert {\n",
              "      background-color: #E8F0FE;\n",
              "      border: none;\n",
              "      border-radius: 50%;\n",
              "      cursor: pointer;\n",
              "      display: none;\n",
              "      fill: #1967D2;\n",
              "      height: 32px;\n",
              "      padding: 0 0 0 0;\n",
              "      width: 32px;\n",
              "    }\n",
              "\n",
              "    .colab-df-convert:hover {\n",
              "      background-color: #E2EBFA;\n",
              "      box-shadow: 0px 1px 2px rgba(60, 64, 67, 0.3), 0px 1px 3px 1px rgba(60, 64, 67, 0.15);\n",
              "      fill: #174EA6;\n",
              "    }\n",
              "\n",
              "    .colab-df-buttons div {\n",
              "      margin-bottom: 4px;\n",
              "    }\n",
              "\n",
              "    [theme=dark] .colab-df-convert {\n",
              "      background-color: #3B4455;\n",
              "      fill: #D2E3FC;\n",
              "    }\n",
              "\n",
              "    [theme=dark] .colab-df-convert:hover {\n",
              "      background-color: #434B5C;\n",
              "      box-shadow: 0px 1px 3px 1px rgba(0, 0, 0, 0.15);\n",
              "      filter: drop-shadow(0px 1px 2px rgba(0, 0, 0, 0.3));\n",
              "      fill: #FFFFFF;\n",
              "    }\n",
              "  </style>\n",
              "\n",
              "    <script>\n",
              "      const buttonEl =\n",
              "        document.querySelector('#df-f6f2f4bc-234c-4498-aa2e-c9c09dc3b02a button.colab-df-convert');\n",
              "      buttonEl.style.display =\n",
              "        google.colab.kernel.accessAllowed ? 'block' : 'none';\n",
              "\n",
              "      async function convertToInteractive(key) {\n",
              "        const element = document.querySelector('#df-f6f2f4bc-234c-4498-aa2e-c9c09dc3b02a');\n",
              "        const dataTable =\n",
              "          await google.colab.kernel.invokeFunction('convertToInteractive',\n",
              "                                                    [key], {});\n",
              "        if (!dataTable) return;\n",
              "\n",
              "        const docLinkHtml = 'Like what you see? Visit the ' +\n",
              "          '<a target=\"_blank\" href=https://colab.research.google.com/notebooks/data_table.ipynb>data table notebook</a>'\n",
              "          + ' to learn more about interactive tables.';\n",
              "        element.innerHTML = '';\n",
              "        dataTable['output_type'] = 'display_data';\n",
              "        await google.colab.output.renderOutput(dataTable, element);\n",
              "        const docLink = document.createElement('div');\n",
              "        docLink.innerHTML = docLinkHtml;\n",
              "        element.appendChild(docLink);\n",
              "      }\n",
              "    </script>\n",
              "  </div>\n",
              "\n",
              "\n",
              "    <div id=\"df-b363b8be-d394-44dd-a49e-408109240f71\">\n",
              "      <button class=\"colab-df-quickchart\" onclick=\"quickchart('df-b363b8be-d394-44dd-a49e-408109240f71')\"\n",
              "                title=\"Suggest charts\"\n",
              "                style=\"display:none;\">\n",
              "\n",
              "<svg xmlns=\"http://www.w3.org/2000/svg\" height=\"24px\"viewBox=\"0 0 24 24\"\n",
              "     width=\"24px\">\n",
              "    <g>\n",
              "        <path d=\"M19 3H5c-1.1 0-2 .9-2 2v14c0 1.1.9 2 2 2h14c1.1 0 2-.9 2-2V5c0-1.1-.9-2-2-2zM9 17H7v-7h2v7zm4 0h-2V7h2v10zm4 0h-2v-4h2v4z\"/>\n",
              "    </g>\n",
              "</svg>\n",
              "      </button>\n",
              "\n",
              "<style>\n",
              "  .colab-df-quickchart {\n",
              "      --bg-color: #E8F0FE;\n",
              "      --fill-color: #1967D2;\n",
              "      --hover-bg-color: #E2EBFA;\n",
              "      --hover-fill-color: #174EA6;\n",
              "      --disabled-fill-color: #AAA;\n",
              "      --disabled-bg-color: #DDD;\n",
              "  }\n",
              "\n",
              "  [theme=dark] .colab-df-quickchart {\n",
              "      --bg-color: #3B4455;\n",
              "      --fill-color: #D2E3FC;\n",
              "      --hover-bg-color: #434B5C;\n",
              "      --hover-fill-color: #FFFFFF;\n",
              "      --disabled-bg-color: #3B4455;\n",
              "      --disabled-fill-color: #666;\n",
              "  }\n",
              "\n",
              "  .colab-df-quickchart {\n",
              "    background-color: var(--bg-color);\n",
              "    border: none;\n",
              "    border-radius: 50%;\n",
              "    cursor: pointer;\n",
              "    display: none;\n",
              "    fill: var(--fill-color);\n",
              "    height: 32px;\n",
              "    padding: 0;\n",
              "    width: 32px;\n",
              "  }\n",
              "\n",
              "  .colab-df-quickchart:hover {\n",
              "    background-color: var(--hover-bg-color);\n",
              "    box-shadow: 0 1px 2px rgba(60, 64, 67, 0.3), 0 1px 3px 1px rgba(60, 64, 67, 0.15);\n",
              "    fill: var(--button-hover-fill-color);\n",
              "  }\n",
              "\n",
              "  .colab-df-quickchart-complete:disabled,\n",
              "  .colab-df-quickchart-complete:disabled:hover {\n",
              "    background-color: var(--disabled-bg-color);\n",
              "    fill: var(--disabled-fill-color);\n",
              "    box-shadow: none;\n",
              "  }\n",
              "\n",
              "  .colab-df-spinner {\n",
              "    border: 2px solid var(--fill-color);\n",
              "    border-color: transparent;\n",
              "    border-bottom-color: var(--fill-color);\n",
              "    animation:\n",
              "      spin 1s steps(1) infinite;\n",
              "  }\n",
              "\n",
              "  @keyframes spin {\n",
              "    0% {\n",
              "      border-color: transparent;\n",
              "      border-bottom-color: var(--fill-color);\n",
              "      border-left-color: var(--fill-color);\n",
              "    }\n",
              "    20% {\n",
              "      border-color: transparent;\n",
              "      border-left-color: var(--fill-color);\n",
              "      border-top-color: var(--fill-color);\n",
              "    }\n",
              "    30% {\n",
              "      border-color: transparent;\n",
              "      border-left-color: var(--fill-color);\n",
              "      border-top-color: var(--fill-color);\n",
              "      border-right-color: var(--fill-color);\n",
              "    }\n",
              "    40% {\n",
              "      border-color: transparent;\n",
              "      border-right-color: var(--fill-color);\n",
              "      border-top-color: var(--fill-color);\n",
              "    }\n",
              "    60% {\n",
              "      border-color: transparent;\n",
              "      border-right-color: var(--fill-color);\n",
              "    }\n",
              "    80% {\n",
              "      border-color: transparent;\n",
              "      border-right-color: var(--fill-color);\n",
              "      border-bottom-color: var(--fill-color);\n",
              "    }\n",
              "    90% {\n",
              "      border-color: transparent;\n",
              "      border-bottom-color: var(--fill-color);\n",
              "    }\n",
              "  }\n",
              "</style>\n",
              "\n",
              "      <script>\n",
              "        async function quickchart(key) {\n",
              "          const quickchartButtonEl =\n",
              "            document.querySelector('#' + key + ' button');\n",
              "          quickchartButtonEl.disabled = true;  // To prevent multiple clicks.\n",
              "          quickchartButtonEl.classList.add('colab-df-spinner');\n",
              "          try {\n",
              "            const charts = await google.colab.kernel.invokeFunction(\n",
              "                'suggestCharts', [key], {});\n",
              "          } catch (error) {\n",
              "            console.error('Error during call to suggestCharts:', error);\n",
              "          }\n",
              "          quickchartButtonEl.classList.remove('colab-df-spinner');\n",
              "          quickchartButtonEl.classList.add('colab-df-quickchart-complete');\n",
              "        }\n",
              "        (() => {\n",
              "          let quickchartButtonEl =\n",
              "            document.querySelector('#df-b363b8be-d394-44dd-a49e-408109240f71 button');\n",
              "          quickchartButtonEl.style.display =\n",
              "            google.colab.kernel.accessAllowed ? 'block' : 'none';\n",
              "        })();\n",
              "      </script>\n",
              "    </div>\n",
              "\n",
              "  <div id=\"id_8891bbe0-2207-4b00-8c0c-10d8a449ec39\">\n",
              "    <style>\n",
              "      .colab-df-generate {\n",
              "        background-color: #E8F0FE;\n",
              "        border: none;\n",
              "        border-radius: 50%;\n",
              "        cursor: pointer;\n",
              "        display: none;\n",
              "        fill: #1967D2;\n",
              "        height: 32px;\n",
              "        padding: 0 0 0 0;\n",
              "        width: 32px;\n",
              "      }\n",
              "\n",
              "      .colab-df-generate:hover {\n",
              "        background-color: #E2EBFA;\n",
              "        box-shadow: 0px 1px 2px rgba(60, 64, 67, 0.3), 0px 1px 3px 1px rgba(60, 64, 67, 0.15);\n",
              "        fill: #174EA6;\n",
              "      }\n",
              "\n",
              "      [theme=dark] .colab-df-generate {\n",
              "        background-color: #3B4455;\n",
              "        fill: #D2E3FC;\n",
              "      }\n",
              "\n",
              "      [theme=dark] .colab-df-generate:hover {\n",
              "        background-color: #434B5C;\n",
              "        box-shadow: 0px 1px 3px 1px rgba(0, 0, 0, 0.15);\n",
              "        filter: drop-shadow(0px 1px 2px rgba(0, 0, 0, 0.3));\n",
              "        fill: #FFFFFF;\n",
              "      }\n",
              "    </style>\n",
              "    <button class=\"colab-df-generate\" onclick=\"generateWithVariable('pivot_df_tenure_salary')\"\n",
              "            title=\"Generate code using this dataframe.\"\n",
              "            style=\"display:none;\">\n",
              "\n",
              "  <svg xmlns=\"http://www.w3.org/2000/svg\" height=\"24px\"viewBox=\"0 0 24 24\"\n",
              "       width=\"24px\">\n",
              "    <path d=\"M7,19H8.4L18.45,9,17,7.55,7,17.6ZM5,21V16.75L18.45,3.32a2,2,0,0,1,2.83,0l1.4,1.43a1.91,1.91,0,0,1,.58,1.4,1.91,1.91,0,0,1-.58,1.4L9.25,21ZM18.45,9,17,7.55Zm-12,3A5.31,5.31,0,0,0,4.9,8.1,5.31,5.31,0,0,0,1,6.5,5.31,5.31,0,0,0,4.9,4.9,5.31,5.31,0,0,0,6.5,1,5.31,5.31,0,0,0,8.1,4.9,5.31,5.31,0,0,0,12,6.5,5.46,5.46,0,0,0,6.5,12Z\"/>\n",
              "  </svg>\n",
              "    </button>\n",
              "    <script>\n",
              "      (() => {\n",
              "      const buttonEl =\n",
              "        document.querySelector('#id_8891bbe0-2207-4b00-8c0c-10d8a449ec39 button.colab-df-generate');\n",
              "      buttonEl.style.display =\n",
              "        google.colab.kernel.accessAllowed ? 'block' : 'none';\n",
              "\n",
              "      buttonEl.onclick = () => {\n",
              "        google.colab.notebook.generateWithVariable('pivot_df_tenure_salary');\n",
              "      }\n",
              "      })();\n",
              "    </script>\n",
              "  </div>\n",
              "\n",
              "    </div>\n",
              "  </div>\n"
            ],
            "application/vnd.google.colaboratory.intrinsic+json": {
              "type": "dataframe",
              "variable_name": "pivot_df_tenure_salary",
              "summary": "{\n  \"name\": \"pivot_df_tenure_salary\",\n  \"rows\": 3,\n  \"fields\": [\n    {\n      \"column\": \"Department\",\n      \"properties\": {\n        \"dtype\": \"string\",\n        \"num_unique_values\": 3,\n        \"samples\": [\n          \"HR\",\n          \"IT\",\n          \"Sales\"\n        ],\n        \"semantic_type\": \"\",\n        \"description\": \"\"\n      }\n    },\n    {\n      \"column\": 1,\n      \"properties\": {\n        \"dtype\": \"number\",\n        \"std\": 622.0254886670323,\n        \"min\": 5787.241379310345,\n        \"max\": 7022.741935483871,\n        \"num_unique_values\": 3,\n        \"samples\": [\n          6278.892857142857,\n          5787.241379310345,\n          7022.741935483871\n        ],\n        \"semantic_type\": \"\",\n        \"description\": \"\"\n      }\n    },\n    {\n      \"column\": 2,\n      \"properties\": {\n        \"dtype\": \"number\",\n        \"std\": 255.3206012040788,\n        \"min\": 5493.09375,\n        \"max\": 5996.840909090909,\n        \"num_unique_values\": 3,\n        \"samples\": [\n          5996.840909090909,\n          5493.09375,\n          5672.545454545455\n        ],\n        \"semantic_type\": \"\",\n        \"description\": \"\"\n      }\n    },\n    {\n      \"column\": 3,\n      \"properties\": {\n        \"dtype\": \"number\",\n        \"std\": 334.3349121968653,\n        \"min\": 5607.482758620689,\n        \"max\": 6191.695652173913,\n        \"num_unique_values\": 3,\n        \"samples\": [\n          6191.695652173913,\n          5607.482758620689,\n          6181.3\n        ],\n        \"semantic_type\": \"\",\n        \"description\": \"\"\n      }\n    },\n    {\n      \"column\": 4,\n      \"properties\": {\n        \"dtype\": \"number\",\n        \"std\": 505.247667891519,\n        \"min\": 5237.414634146341,\n        \"max\": 6151.108108108108,\n        \"num_unique_values\": 3,\n        \"samples\": [\n          6068.024390243902,\n          6151.108108108108,\n          5237.414634146341\n        ],\n        \"semantic_type\": \"\",\n        \"description\": \"\"\n      }\n    },\n    {\n      \"column\": 5,\n      \"properties\": {\n        \"dtype\": \"number\",\n        \"std\": 461.3918179909924,\n        \"min\": 5316.545454545455,\n        \"max\": 6239.078947368421,\n        \"num_unique_values\": 3,\n        \"samples\": [\n          5759.205882352941,\n          6239.078947368421,\n          5316.545454545455\n        ],\n        \"semantic_type\": \"\",\n        \"description\": \"\"\n      }\n    },\n    {\n      \"column\": 6,\n      \"properties\": {\n        \"dtype\": \"number\",\n        \"std\": 39.85821817252728,\n        \"min\": 6116.354838709677,\n        \"max\": 6194.8125,\n        \"num_unique_values\": 3,\n        \"samples\": [\n          6143.363636363636,\n          6116.354838709677,\n          6194.8125\n        ],\n        \"semantic_type\": \"\",\n        \"description\": \"\"\n      }\n    },\n    {\n      \"column\": 7,\n      \"properties\": {\n        \"dtype\": \"number\",\n        \"std\": 358.6385287917444,\n        \"min\": 5665.181818181818,\n        \"max\": 6358.972222222223,\n        \"num_unique_values\": 3,\n        \"samples\": [\n          5854.419354838709,\n          6358.972222222223,\n          5665.181818181818\n        ],\n        \"semantic_type\": \"\",\n        \"description\": \"\"\n      }\n    },\n    {\n      \"column\": 8,\n      \"properties\": {\n        \"dtype\": \"number\",\n        \"std\": 258.44271349897696,\n        \"min\": 5854.428571428572,\n        \"max\": 6350.875,\n        \"num_unique_values\": 3,\n        \"samples\": [\n          6227.285714285715,\n          6350.875,\n          5854.428571428572\n        ],\n        \"semantic_type\": \"\",\n        \"description\": \"\"\n      }\n    },\n    {\n      \"column\": 9,\n      \"properties\": {\n        \"dtype\": \"number\",\n        \"std\": 448.5208387538995,\n        \"min\": 5341.5,\n        \"max\": 6134.263157894737,\n        \"num_unique_values\": 3,\n        \"samples\": [\n          5341.5,\n          6134.263157894737,\n          6101.416666666667\n        ],\n        \"semantic_type\": \"\",\n        \"description\": \"\"\n      }\n    },\n    {\n      \"column\": 10,\n      \"properties\": {\n        \"dtype\": \"number\",\n        \"std\": 602.1353704927516,\n        \"min\": 5038.896551724138,\n        \"max\": 6190.28,\n        \"num_unique_values\": 3,\n        \"samples\": [\n          6190.28,\n          5308.911764705882,\n          5038.896551724138\n        ],\n        \"semantic_type\": \"\",\n        \"description\": \"\"\n      }\n    },\n    {\n      \"column\": 11,\n      \"properties\": {\n        \"dtype\": \"number\",\n        \"std\": 4070.569288604892,\n        \"min\": 0.0,\n        \"max\": 7894.0,\n        \"num_unique_values\": 3,\n        \"samples\": [\n          0.0,\n          5671.0,\n          7894.0\n        ],\n        \"semantic_type\": \"\",\n        \"description\": \"\"\n      }\n    }\n  ]\n}"
            }
          },
          "metadata": {}
        }
      ]
    },
    {
      "cell_type": "markdown",
      "metadata": {
        "id": "8371c486"
      },
      "source": [
        "## Visualize with grouped bar chart (Tenure)"
      ]
    },
    {
      "cell_type": "code",
      "metadata": {
        "colab": {
          "base_uri": "https://localhost:8080/",
          "height": 460
        },
        "id": "5e69786c",
        "outputId": "3d4938eb-7198-403f-e423-fab386e9ef08"
      },
      "source": [
        "import matplotlib.pyplot as plt\n",
        "import pandas as pd # Import pandas for plotting\n",
        "\n",
        "# Group by Tenure and calculate the average salary\n",
        "tenure_salary = df.groupBy(\"Tenure\").agg(avg(\"Salary\").alias(\"Average Salary\"))\n",
        "\n",
        "# Convert to Pandas DataFrame\n",
        "tenure_salary_pd = tenure_salary.toPandas()\n",
        "\n",
        "# Sort by Tenure for better visualization\n",
        "tenure_salary_pd = tenure_salary_pd.sort_values(by='Tenure')\n",
        "\n",
        "plt.figure(figsize=(12, 7))\n",
        "# Create a bar plot of average salary vs tenure\n",
        "plt.bar(tenure_salary_pd['Tenure'], tenure_salary_pd['Average Salary'])\n",
        "plt.xlabel(\"Tenure (Years)\")\n",
        "plt.ylabel(\"Average Salary\")\n",
        "plt.title(\"Average Salary by Tenure\")\n",
        "plt.xticks(tenure_salary_pd['Tenure']) # Set ticks to be the tenure years\n",
        "plt.tight_layout()\n",
        "plt.show()"
      ],
      "execution_count": 45,
      "outputs": [
        {
          "output_type": "display_data",
          "data": {
            "text/plain": [
              "<Figure size 1200x700 with 1 Axes>"
            ],
            "image/png": "[encoded data removed]"
          },
          "metadata": {}
        }
      ]
    },
    {
      "cell_type": "markdown",
      "metadata": {
        "id": "ab586129"
      },
      "source": [
        "## Department-wise Salary Distribution by Status"
      ]
    },
    {
      "cell_type": "code",
      "metadata": {
        "colab": {
          "base_uri": "https://localhost:8080/"
        },
        "id": "a74336b2",
        "outputId": "51ac4901-a4dd-483e-b5e9-33abde492e14"
      },
      "source": [
        "department_status_salary = df.groupBy(\"Department\", \"Status\").agg(avg(\"Salary\").alias(\"Average Salary\"))\n",
        "department_status_salary.show()"
      ],
      "execution_count": 46,
      "outputs": [
        {
          "output_type": "stream",
          "name": "stdout",
          "text": [
            "+----------+--------+------------------+\n",
            "|Department|  Status|    Average Salary|\n",
            "+----------+--------+------------------+\n",
            "|        HR|  Active| 5932.630573248408|\n",
            "|        IT|Inactive|6016.7202380952385|\n",
            "|        IT|  Active|  5920.87134502924|\n",
            "|     Sales|Inactive| 5879.248484848485|\n",
            "|     Sales|  Active| 5732.404624277457|\n",
            "|        HR|Inactive| 6029.463855421687|\n",
            "+----------+--------+------------------+\n",
            "\n"
          ]
        }
      ]
    },
    {
      "cell_type": "code",
      "metadata": {
        "colab": {
          "base_uri": "https://localhost:8080/",
          "height": 175
        },
        "id": "32547891",
        "outputId": "d6047512-fd4b-4ece-9986-c88d72d68611"
      },
      "source": [
        "department_status_salary_pd = department_status_salary.toPandas()\n",
        "pivot_df_status_salary = department_status_salary_pd.pivot(index='Department', columns='Status', values='Average Salary').fillna(0)\n",
        "display(pivot_df_status_salary)"
      ],
      "execution_count": 47,
      "outputs": [
        {
          "output_type": "display_data",
          "data": {
            "text/plain": [
              "Status           Active     Inactive\n",
              "Department                          \n",
              "HR          5932.630573  6029.463855\n",
              "IT          5920.871345  6016.720238\n",
              "Sales       5732.404624  5879.248485"
            ],
            "text/html": [
              "\n",
              "  <div id=\"df-39d88974-3ab3-41a4-9417-2cb2636fd44c\" class=\"colab-df-container\">\n",
              "    <div>\n",
              "<style scoped>\n",
              "    .dataframe tbody tr th:only-of-type {\n",
              "        vertical-align: middle;\n",
              "    }\n",
              "\n",
              "    .dataframe tbody tr th {\n",
              "        vertical-align: top;\n",
              "    }\n",
              "\n",
              "    .dataframe thead th {\n",
              "        text-align: right;\n",
              "    }\n",
              "</style>\n",
              "<table border=\"1\" class=\"dataframe\">\n",
              "  <thead>\n",
              "    <tr style=\"text-align: right;\">\n",
              "      <th>Status</th>\n",
              "      <th>Active</th>\n",
              "      <th>Inactive</th>\n",
              "    </tr>\n",
              "    <tr>\n",
              "      <th>Department</th>\n",
              "      <th></th>\n",
              "      <th></th>\n",
              "    </tr>\n",
              "  </thead>\n",
              "  <tbody>\n",
              "    <tr>\n",
              "      <th>HR</th>\n",
              "      <td>5932.630573</td>\n",
              "      <td>6029.463855</td>\n",
              "    </tr>\n",
              "    <tr>\n",
              "      <th>IT</th>\n",
              "      <td>5920.871345</td>\n",
              "      <td>6016.720238</td>\n",
              "    </tr>\n",
              "    <tr>\n",
              "      <th>Sales</th>\n",
              "      <td>5732.404624</td>\n",
              "      <td>5879.248485</td>\n",
              "    </tr>\n",
              "  </tbody>\n",
              "</table>\n",
              "</div>\n",
              "    <div class=\"colab-df-buttons\">\n",
              "\n",
              "  <div class=\"colab-df-container\">\n",
              "    <button class=\"colab-df-convert\" onclick=\"convertToInteractive('df-39d88974-3ab3-41a4-9417-2cb2636fd44c')\"\n",
              "            title=\"Convert this dataframe to an interactive table.\"\n",
              "            style=\"display:none;\">\n",
              "\n",
              "  <svg xmlns=\"http://www.w3.org/2000/svg\" height=\"24px\" viewBox=\"0 -960 960 960\">\n",
              "    <path d=\"M120-120v-720h720v720H120Zm60-500h600v-160H180v160Zm220 220h160v-160H400v160Zm0 220h160v-160H400v160ZM180-400h160v-160H180v160Zm440 0h160v-160H620v160ZM180-180h160v-160H180v160Zm440 0h160v-160H620v160Z\"/>\n",
              "  </svg>\n",
              "    </button>\n",
              "\n",
              "  <style>\n",
              "    .colab-df-container {\n",
              "      display:flex;\n",
              "      gap: 12px;\n",
              "    }\n",
              "\n",
              "    .colab-df-convert {\n",
              "      background-color: #E8F0FE;\n",
              "      border: none;\n",
              "      border-radius: 50%;\n",
              "      cursor: pointer;\n",
              "      display: none;\n",
              "      fill: #1967D2;\n",
              "      height: 32px;\n",
              "      padding: 0 0 0 0;\n",
              "      width: 32px;\n",
              "    }\n",
              "\n",
              "    .colab-df-convert:hover {\n",
              "      background-color: #E2EBFA;\n",
              "      box-shadow: 0px 1px 2px rgba(60, 64, 67, 0.3), 0px 1px 3px 1px rgba(60, 64, 67, 0.15);\n",
              "      fill: #174EA6;\n",
              "    }\n",
              "\n",
              "    .colab-df-buttons div {\n",
              "      margin-bottom: 4px;\n",
              "    }\n",
              "\n",
              "    [theme=dark] .colab-df-convert {\n",
              "      background-color: #3B4455;\n",
              "      fill: #D2E3FC;\n",
              "    }\n",
              "\n",
              "    [theme=dark] .colab-df-convert:hover {\n",
              "      background-color: #434B5C;\n",
              "      box-shadow: 0px 1px 3px 1px rgba(0, 0, 0, 0.15);\n",
              "      filter: drop-shadow(0px 1px 2px rgba(0, 0, 0, 0.3));\n",
              "      fill: #FFFFFF;\n",
              "    }\n",
              "  </style>\n",
              "\n",
              "    <script>\n",
              "      const buttonEl =\n",
              "        document.querySelector('#df-39d88974-3ab3-41a4-9417-2cb2636fd44c button.colab-df-convert');\n",
              "      buttonEl.style.display =\n",
              "        google.colab.kernel.accessAllowed ? 'block' : 'none';\n",
              "\n",
              "      async function convertToInteractive(key) {\n",
              "        const element = document.querySelector('#df-39d88974-3ab3-41a4-9417-2cb2636fd44c');\n",
              "        const dataTable =\n",
              "          await google.colab.kernel.invokeFunction('convertToInteractive',\n",
              "                                                    [key], {});\n",
              "        if (!dataTable) return;\n",
              "\n",
              "        const docLinkHtml = 'Like what you see? Visit the ' +\n",
              "          '<a target=\"_blank\" href=https://colab.research.google.com/notebooks/data_table.ipynb>data table notebook</a>'\n",
              "          + ' to learn more about interactive tables.';\n",
              "        element.innerHTML = '';\n",
              "        dataTable['output_type'] = 'display_data';\n",
              "        await google.colab.output.renderOutput(dataTable, element);\n",
              "        const docLink = document.createElement('div');\n",
              "        docLink.innerHTML = docLinkHtml;\n",
              "        element.appendChild(docLink);\n",
              "      }\n",
              "    </script>\n",
              "  </div>\n",
              "\n",
              "\n",
              "    <div id=\"df-2c7e98e1-ac78-4b73-a36d-db7c04a4814a\">\n",
              "      <button class=\"colab-df-quickchart\" onclick=\"quickchart('df-2c7e98e1-ac78-4b73-a36d-db7c04a4814a')\"\n",
              "                title=\"Suggest charts\"\n",
              "                style=\"display:none;\">\n",
              "\n",
              "<svg xmlns=\"http://www.w3.org/2000/svg\" height=\"24px\"viewBox=\"0 0 24 24\"\n",
              "     width=\"24px\">\n",
              "    <g>\n",
              "        <path d=\"M19 3H5c-1.1 0-2 .9-2 2v14c0 1.1.9 2 2 2h14c1.1 0 2-.9 2-2V5c0-1.1-.9-2-2-2zM9 17H7v-7h2v7zm4 0h-2V7h2v10zm4 0h-2v-4h2v4z\"/>\n",
              "    </g>\n",
              "</svg>\n",
              "      </button>\n",
              "\n",
              "<style>\n",
              "  .colab-df-quickchart {\n",
              "      --bg-color: #E8F0FE;\n",
              "      --fill-color: #1967D2;\n",
              "      --hover-bg-color: #E2EBFA;\n",
              "      --hover-fill-color: #174EA6;\n",
              "      --disabled-fill-color: #AAA;\n",
              "      --disabled-bg-color: #DDD;\n",
              "  }\n",
              "\n",
              "  [theme=dark] .colab-df-quickchart {\n",
              "      --bg-color: #3B4455;\n",
              "      --fill-color: #D2E3FC;\n",
              "      --hover-bg-color: #434B5C;\n",
              "      --hover-fill-color: #FFFFFF;\n",
              "      --disabled-bg-color: #3B4455;\n",
              "      --disabled-fill-color: #666;\n",
              "  }\n",
              "\n",
              "  .colab-df-quickchart {\n",
              "    background-color: var(--bg-color);\n",
              "    border: none;\n",
              "    border-radius: 50%;\n",
              "    cursor: pointer;\n",
              "    display: none;\n",
              "    fill: var(--fill-color);\n",
              "    height: 32px;\n",
              "    padding: 0;\n",
              "    width: 32px;\n",
              "  }\n",
              "\n",
              "  .colab-df-quickchart:hover {\n",
              "    background-color: var(--hover-bg-color);\n",
              "    box-shadow: 0 1px 2px rgba(60, 64, 67, 0.3), 0 1px 3px 1px rgba(60, 64, 67, 0.15);\n",
              "    fill: var(--button-hover-fill-color);\n",
              "  }\n",
              "\n",
              "  .colab-df-quickchart-complete:disabled,\n",
              "  .colab-df-quickchart-complete:disabled:hover {\n",
              "    background-color: var(--disabled-bg-color);\n",
              "    fill: var(--disabled-fill-color);\n",
              "    box-shadow: none;\n",
              "  }\n",
              "\n",
              "  .colab-df-spinner {\n",
              "    border: 2px solid var(--fill-color);\n",
              "    border-color: transparent;\n",
              "    border-bottom-color: var(--fill-color);\n",
              "    animation:\n",
              "      spin 1s steps(1) infinite;\n",
              "  }\n",
              "\n",
              "  @keyframes spin {\n",
              "    0% {\n",
              "      border-color: transparent;\n",
              "      border-bottom-color: var(--fill-color);\n",
              "      border-left-color: var(--fill-color);\n",
              "    }\n",
              "    20% {\n",
              "      border-color: transparent;\n",
              "      border-left-color: var(--fill-color);\n",
              "      border-top-color: var(--fill-color);\n",
              "    }\n",
              "    30% {\n",
              "      border-color: transparent;\n",
              "      border-left-color: var(--fill-color);\n",
              "      border-top-color: var(--fill-color);\n",
              "      border-right-color: var(--fill-color);\n",
              "    }\n",
              "    40% {\n",
              "      border-color: transparent;\n",
              "      border-right-color: var(--fill-color);\n",
              "      border-top-color: var(--fill-color);\n",
              "    }\n",
              "    60% {\n",
              "      border-color: transparent;\n",
              "      border-right-color: var(--fill-color);\n",
              "    }\n",
              "    80% {\n",
              "      border-color: transparent;\n",
              "      border-right-color: var(--fill-color);\n",
              "      border-bottom-color: var(--fill-color);\n",
              "    }\n",
              "    90% {\n",
              "      border-color: transparent;\n",
              "      border-bottom-color: var(--fill-color);\n",
              "    }\n",
              "  }\n",
              "</style>\n",
              "\n",
              "      <script>\n",
              "        async function quickchart(key) {\n",
              "          const quickchartButtonEl =\n",
              "            document.querySelector('#' + key + ' button');\n",
              "          quickchartButtonEl.disabled = true;  // To prevent multiple clicks.\n",
              "          quickchartButtonEl.classList.add('colab-df-spinner');\n",
              "          try {\n",
              "            const charts = await google.colab.kernel.invokeFunction(\n",
              "                'suggestCharts', [key], {});\n",
              "          } catch (error) {\n",
              "            console.error('Error during call to suggestCharts:', error);\n",
              "          }\n",
              "          quickchartButtonEl.classList.remove('colab-df-spinner');\n",
              "          quickchartButtonEl.classList.add('colab-df-quickchart-complete');\n",
              "        }\n",
              "        (() => {\n",
              "          let quickchartButtonEl =\n",
              "            document.querySelector('#df-2c7e98e1-ac78-4b73-a36d-db7c04a4814a button');\n",
              "          quickchartButtonEl.style.display =\n",
              "            google.colab.kernel.accessAllowed ? 'block' : 'none';\n",
              "        })();\n",
              "      </script>\n",
              "    </div>\n",
              "\n",
              "  <div id=\"id_56beb6ca-17f2-4ae7-bca3-6b8fb7e5aa55\">\n",
              "    <style>\n",
              "      .colab-df-generate {\n",
              "        background-color: #E8F0FE;\n",
              "        border: none;\n",
              "        border-radius: 50%;\n",
              "        cursor: pointer;\n",
              "        display: none;\n",
              "        fill: #1967D2;\n",
              "        height: 32px;\n",
              "        padding: 0 0 0 0;\n",
              "        width: 32px;\n",
              "      }\n",
              "\n",
              "      .colab-df-generate:hover {\n",
              "        background-color: #E2EBFA;\n",
              "        box-shadow: 0px 1px 2px rgba(60, 64, 67, 0.3), 0px 1px 3px 1px rgba(60, 64, 67, 0.15);\n",
              "        fill: #174EA6;\n",
              "      }\n",
              "\n",
              "      [theme=dark] .colab-df-generate {\n",
              "        background-color: #3B4455;\n",
              "        fill: #D2E3FC;\n",
              "      }\n",
              "\n",
              "      [theme=dark] .colab-df-generate:hover {\n",
              "        background-color: #434B5C;\n",
              "        box-shadow: 0px 1px 3px 1px rgba(0, 0, 0, 0.15);\n",
              "        filter: drop-shadow(0px 1px 2px rgba(0, 0, 0, 0.3));\n",
              "        fill: #FFFFFF;\n",
              "      }\n",
              "    </style>\n",
              "    <button class=\"colab-df-generate\" onclick=\"generateWithVariable('pivot_df_status_salary')\"\n",
              "            title=\"Generate code using this dataframe.\"\n",
              "            style=\"display:none;\">\n",
              "\n",
              "  <svg xmlns=\"http://www.w3.org/2000/svg\" height=\"24px\"viewBox=\"0 0 24 24\"\n",
              "       width=\"24px\">\n",
              "    <path d=\"M7,19H8.4L18.45,9,17,7.55,7,17.6ZM5,21V16.75L18.45,3.32a2,2,0,0,1,2.83,0l1.4,1.43a1.91,1.91,0,0,1,.58,1.4,1.91,1.91,0,0,1-.58,1.4L9.25,21ZM18.45,9,17,7.55Zm-12,3A5.31,5.31,0,0,0,4.9,8.1,5.31,5.31,0,0,0,1,6.5,5.31,5.31,0,0,0,4.9,4.9,5.31,5.31,0,0,0,6.5,1,5.31,5.31,0,0,0,8.1,4.9,5.31,5.31,0,0,0,12,6.5,5.46,5.46,0,0,0,6.5,12Z\"/>\n",
              "  </svg>\n",
              "    </button>\n",
              "    <script>\n",
              "      (() => {\n",
              "      const buttonEl =\n",
              "        document.querySelector('#id_56beb6ca-17f2-4ae7-bca3-6b8fb7e5aa55 button.colab-df-generate');\n",
              "      buttonEl.style.display =\n",
              "        google.colab.kernel.accessAllowed ? 'block' : 'none';\n",
              "\n",
              "      buttonEl.onclick = () => {\n",
              "        google.colab.notebook.generateWithVariable('pivot_df_status_salary');\n",
              "      }\n",
              "      })();\n",
              "    </script>\n",
              "  </div>\n",
              "\n",
              "    </div>\n",
              "  </div>\n"
            ],
            "application/vnd.google.colaboratory.intrinsic+json": {
              "type": "dataframe",
              "variable_name": "pivot_df_status_salary",
              "summary": "{\n  \"name\": \"pivot_df_status_salary\",\n  \"rows\": 3,\n  \"fields\": [\n    {\n      \"column\": \"Department\",\n      \"properties\": {\n        \"dtype\": \"string\",\n        \"num_unique_values\": 3,\n        \"samples\": [\n          \"HR\",\n          \"IT\",\n          \"Sales\"\n        ],\n        \"semantic_type\": \"\",\n        \"description\": \"\"\n      }\n    },\n    {\n      \"column\": \"Active\",\n      \"properties\": {\n        \"dtype\": \"number\",\n        \"std\": 112.3598496799154,\n        \"min\": 5732.404624277457,\n        \"max\": 5932.630573248408,\n        \"num_unique_values\": 3,\n        \"samples\": [\n          5932.630573248408,\n          5920.87134502924,\n          5732.404624277457\n        ],\n        \"semantic_type\": \"\",\n        \"description\": \"\"\n      }\n    },\n    {\n      \"column\": \"Inactive\",\n      \"properties\": {\n        \"dtype\": \"number\",\n        \"std\": 83.29219679312095,\n        \"min\": 5879.248484848485,\n        \"max\": 6029.463855421687,\n        \"num_unique_values\": 3,\n        \"samples\": [\n          6029.463855421687,\n          6016.7202380952385,\n          5879.248484848485\n        ],\n        \"semantic_type\": \"\",\n        \"description\": \"\"\n      }\n    }\n  ]\n}"
            }
          },
          "metadata": {}
        }
      ]
    },
    {
      "cell_type": "markdown",
      "metadata": {
        "id": "510cbc49"
      },
      "source": [
        "## Visualize with grouped bar chart (Status)"
      ]
    },
    {
      "cell_type": "code",
      "metadata": {
        "colab": {
          "base_uri": "https://localhost:8080/",
          "height": 478
        },
        "id": "4e075ff4",
        "outputId": "9027290f-48fe-4a4b-fa45-9000e3afbae1"
      },
      "source": [
        "import matplotlib.pyplot as plt\n",
        "\n",
        "plt.figure(figsize=(12, 7))\n",
        "pivot_df_status_salary.plot(kind='bar', figsize=(12, 7))\n",
        "plt.xlabel(\"Department\")\n",
        "plt.ylabel(\"Average Salary\")\n",
        "plt.title(\"Average Salary by Department and Status\")\n",
        "plt.xticks(rotation=45, ha='right')\n",
        "plt.tight_layout()\n",
        "plt.show()"
      ],
      "execution_count": 48,
      "outputs": [
        {
          "output_type": "display_data",
          "data": {
            "text/plain": [
              "<Figure size 1200x700 with 0 Axes>"
            ]
          },
          "metadata": {}
        },
        {
          "output_type": "display_data",
          "data": {
            "text/plain": [
              "<Figure size 1200x700 with 1 Axes>"
            ],
            "image/png": "[encoded data removed]"
          },
          "metadata": {}
        }
      ]
    },
    {
      "cell_type": "code",
      "source": [
        "df.show(50)"
      ],
      "metadata": {
        "id": "ETjbLO1sv_LN",
        "colab": {
          "base_uri": "https://localhost:8080/"
        },
        "outputId": "4292fb53-5dd8-4253-97c7-4ac20f1da99f"
      },
      "execution_count": 49,
      "outputs": [
        {
          "output_type": "stream",
          "name": "stdout",
          "text": [
            "+---+--------------------+---+------+----------+------+------------+-----------------+----------+--------+-----------+-------+------+-----------+---------+\n",
            "| ID|                Name|Age|Gender|Department|Salary|Joining Date|Performance Score|Experience|  Status|   Location|Session|Tenure|Session_Idx|GenderIdx|\n",
            "+---+--------------------+---+------+----------+------+------------+-----------------+----------+--------+-----------+-------+------+-----------+---------+\n",
            "|  1|        Cory Escobar| 48|Female|        HR|  5641|  2015-05-03|              2.0|        16|  Active|   New York|  Night|    10|        0.0|      1.0|\n",
            "|  2|     Timothy Sanchez| 25| Other|     Sales|  4249|  2020-11-09|              2.0|        11|Inactive|Los Angeles|Evening|     5|        2.0|      0.0|\n",
            "|  3|        Chad Nichols| 57| Other|     Sales|  3058|  2019-02-12|              2.0|         1|Inactive|   New York|Morning|     6|        1.0|      0.0|\n",
            "|  4|  Christine Williams| 58|Female|        IT|  5895|  2017-09-08|              2.0|        13|Inactive|Los Angeles|Evening|     8|        2.0|      1.0|\n",
            "|  5|        Amber Harris| 35| Other|        IT|  4317|  2020-02-15|              5.0|        16|Inactive|   New York|Evening|     5|        2.0|      0.0|\n",
            "|  6|         Ashley Howe| 29|Female|        HR|  2591|  2016-06-24|              1.0|         6|  Active|    Chicago|Evening|     9|        2.0|      1.0|\n",
            "|  7|         David Olson| 39|Female|     Sales|  6826|  2023-05-11|              2.0|         4|  Active|   New York|  Night|     2|        0.0|      1.0|\n",
            "|  8|        Amanda Baker| 52| Other|        HR|  6285|  2015-04-01|              2.0|         8|Inactive|    Chicago|Evening|    10|        2.0|      0.0|\n",
            "|  9|       Jeremy Wright| 63|Female|     Sales|  9862|  2024-02-07|              2.0|         3|Inactive|   New York|  Night|     1|        0.0|      1.0|\n",
            "| 10|      Brian Faulkner| 30|  Male|        IT|  8202|  2018-05-26|              1.0|         9|  Active|Los Angeles|Morning|     7|        1.0|      2.0|\n",
            "| 11|         Nicole Bell| 42|Female|     Sales|  5336|  2015-01-28|              3.0|         7|  Active|Los Angeles|Evening|    10|        2.0|      1.0|\n",
            "| 12|   Rodney Richardson| 60| Other|        HR|  6908|  2015-03-14|              4.0|        19|  Active|    Chicago|  Night|    10|        0.0|      0.0|\n",
            "| 13|     Joshua Robinson| 61|  Male|        IT|  5688|  2020-06-21|              2.0|         4|Inactive|    Chicago|  Night|     5|        0.0|      2.0|\n",
            "| 14|   Benjamin Callahan| 34|  Male|        IT|  5593|  2019-06-23|              2.0|         2|Inactive|Los Angeles|  Night|     6|        0.0|      2.0|\n",
            "| 15|  Matthew Collins MD| 31|Female|     Sales|  8568|  2020-06-01|              2.0|        20|Inactive|Los Angeles|Evening|     5|        2.0|      1.0|\n",
            "| 16|         Gary Cooley| 62|  Male|        HR|  5386|  2017-07-25|              2.0|         2|Inactive|    Chicago|Morning|     8|        1.0|      2.0|\n",
            "| 17|      Jonathan Perez| 59|  Male|        HR|  6586|  2019-02-19|              3.0|         7|Inactive|Los Angeles|Evening|     6|        2.0|      2.0|\n",
            "| 18|  Jacqueline Randall| 31|Female|        HR|  3519|  2018-05-18|              4.0|         6|  Active|   New York|Morning|     7|        1.0|      1.0|\n",
            "| 19|      Nancy Stephens| 38|  Male|        HR|  9061|  2017-07-16|              5.0|        16|Inactive|    Chicago|  Night|     8|        0.0|      2.0|\n",
            "| 20|        Victoria Fox| 57|Female|        HR|  7251|  2023-06-07|              2.0|        10|  Active|Los Angeles|Evening|     2|        2.0|      1.0|\n",
            "| 21|       Heather Jones| 35|  Male|     Sales|  4565|  2018-02-07|              2.0|         9|  Active|    Chicago|  Night|     7|        0.0|      2.0|\n",
            "| 22|       Stacie Porter| 61|Female|        HR|  4071|  2020-05-04|              2.0|         9|Inactive|    Chicago|  Night|     5|        0.0|      1.0|\n",
            "| 23|        Bryce Carter| 35|Female|     Sales|  9598|  2015-12-16|              4.0|         4|Inactive|   New York|  Night|    10|        0.0|      1.0|\n",
            "| 24|     Marissa Stewart| 31|Female|        HR|  5386|  2021-01-30|              2.0|         3|  Active|Los Angeles|Evening|     4|        2.0|      1.0|\n",
            "| 25|       Tracy Carlson| 21|  Male|        HR|  9275|  2022-04-09|              4.0|        12|  Active|   New York|Morning|     3|        1.0|      2.0|\n",
            "| 26|      Tara Blackwell| 30| Other|        HR|  6120|  2020-02-20|              5.0|         7|  Active|   New York|Evening|     5|        2.0|      0.0|\n",
            "| 27|         Austin Long| 20|Female|        IT|  4899|  2024-05-01|              5.0|         8|Inactive|    Chicago|  Night|     1|        0.0|      1.0|\n",
            "| 28|       Jordan Warren| 55|Female|        HR|  4608|  2018-07-07|              2.0|        18|Inactive|Los Angeles|Morning|     7|        1.0|      1.0|\n",
            "| 29|     Vickie Campbell| 65|Female|        IT|  9190|  2019-10-28|              2.0|        12|Inactive|    Chicago|Morning|     6|        1.0|      1.0|\n",
            "| 30|       Rachel Ramsey| 22|  Male|     Sales|  9661|  2016-08-18|              2.0|        17|Inactive|    Chicago|  Night|     9|        0.0|      2.0|\n",
            "| 31|        Brandi Smith| 21| Other|        IT|  4780|  2020-01-20|              1.0|         7|Inactive|   New York|  Night|     5|        0.0|      0.0|\n",
            "| 32|   Jacqueline Becker| 63| Other|     Sales|  4270|  2021-12-16|              2.0|        20|Inactive|Los Angeles|Morning|     4|        1.0|      0.0|\n",
            "| 33|       Trevor Duncan| 65| Other|     Sales|  6547|  2024-06-10|              2.0|        10|  Active|    Chicago|Evening|     1|        2.0|      0.0|\n",
            "| 34|    Mr. Brian Nelson| 42|Female|        IT|  5207|  2017-08-17|              1.0|         4|  Active|Los Angeles|  Night|     8|        0.0|      1.0|\n",
            "| 35|            Lisa Fry| 51|Female|        IT|  9259|  2017-09-26|              4.0|        17|Inactive|Los Angeles|  Night|     8|        0.0|      1.0|\n",
            "| 36|         Kevin Watts| 35|  Male|        IT|  9078|  2019-06-12|              1.0|         7|Inactive|Los Angeles|Evening|     6|        2.0|      2.0|\n",
            "| 37|    Jacqueline Moore| 39|  Male|     Sales|  2364|  2018-02-25|              1.0|        15|  Active|Los Angeles|Evening|     7|        2.0|      2.0|\n",
            "| 38|       Lawrence Rose| 18|Female|        HR|  2904|  2021-04-11|              1.0|        17|Inactive|    Chicago|  Night|     4|        0.0|      1.0|\n",
            "| 39|        Jordan Scott| 33| Other|     Sales|  8678|  2016-05-15|              5.0|         9|  Active|Los Angeles|Evening|     9|        2.0|      0.0|\n",
            "| 40|         Lisa Wagner| 36|  Male|        HR|  8870|  2024-08-12|              4.0|        17|  Active|Los Angeles|Evening|     1|        2.0|      2.0|\n",
            "| 41|         Ricky Keith| 20|Female|     Sales|  6621|  2024-01-29|              2.0|        20|Inactive|Los Angeles|Evening|     1|        2.0|      1.0|\n",
            "| 42|      Charles Mccall| 58| Other|        IT|  9512|  2024-11-10|              2.0|         8|Inactive|Los Angeles|Morning|     1|        1.0|      0.0|\n",
            "| 43|         April Ponce| 27|Female|     Sales|  6655|  2021-10-22|              2.0|         2|Inactive|Los Angeles|Evening|     4|        2.0|      1.0|\n",
            "| 44|       Cindy Nichols| 64|Female|        IT|  2427|  2014-12-19|              2.0|         6|  Active|   New York|  Night|    11|        0.0|      1.0|\n",
            "| 45|      Daniel Aguirre| 20| Other|        IT|  4184|  2017-10-03|              2.0|        13|  Active|   New York|Morning|     8|        1.0|      0.0|\n",
            "| 46|Dr. Monica Hanna PhD| 27| Other|        HR|  4356|  2020-10-31|              2.0|        11|Inactive|   New York|  Night|     5|        0.0|      0.0|\n",
            "| 47|        Alicia Scott| 47|Female|        HR|  7966|  2019-09-03|              2.0|         8|Inactive|   New York|Morning|     6|        1.0|      1.0|\n",
            "| 48|        Jake Johnson| 48| Other|        IT|  5848|  2017-02-03|              3.0|         2|  Active|Los Angeles|  Night|     8|        0.0|      0.0|\n",
            "| 49|          Jamie Wood| 46|  Male|     Sales|  2773|  2023-02-25|              4.0|         9|  Active|   New York|Morning|     2|        1.0|      2.0|\n",
            "| 50|    Valerie Guerrero| 23|  Male|        HR|  6253|  2023-09-21|              4.0|        14|  Active|Los Angeles|  Night|     2|        0.0|      2.0|\n",
            "+---+--------------------+---+------+----------+------+------------+-----------------+----------+--------+-----------+-------+------+-----------+---------+\n",
            "only showing top 50 rows\n",
            "\n"
          ]
        }
      ]
    },
    {
      "cell_type": "code",
      "source": [
        "from pyspark.ml.feature import VectorAssembler\n",
        "feature_vec = VectorAssembler(inputCols = [\"Experience\",\"Tenure\",\"Session_Idx\",\"GenderIdx\"],outputCol = \"features\")\n",
        "df = feature_vec.transform(df)\n",
        "df.show()"
      ],
      "metadata": {
        "colab": {
          "base_uri": "https://localhost:8080/"
        },
        "id": "XBDUNtdXecHf",
        "outputId": "c2c1b914-0f44-4041-92b8-09caf4a1ade7"
      },
      "execution_count": 50,
      "outputs": [
        {
          "output_type": "stream",
          "name": "stdout",
          "text": [
            "+---+------------------+---+------+----------+------+------------+-----------------+----------+--------+-----------+-------+------+-----------+---------+-------------------+\n",
            "| ID|              Name|Age|Gender|Department|Salary|Joining Date|Performance Score|Experience|  Status|   Location|Session|Tenure|Session_Idx|GenderIdx|           features|\n",
            "+---+------------------+---+------+----------+------+------------+-----------------+----------+--------+-----------+-------+------+-----------+---------+-------------------+\n",
            "|  1|      Cory Escobar| 48|Female|        HR|  5641|  2015-05-03|              2.0|        16|  Active|   New York|  Night|    10|        0.0|      1.0|[16.0,10.0,0.0,1.0]|\n",
            "|  2|   Timothy Sanchez| 25| Other|     Sales|  4249|  2020-11-09|              2.0|        11|Inactive|Los Angeles|Evening|     5|        2.0|      0.0| [11.0,5.0,2.0,0.0]|\n",
            "|  3|      Chad Nichols| 57| Other|     Sales|  3058|  2019-02-12|              2.0|         1|Inactive|   New York|Morning|     6|        1.0|      0.0|  [1.0,6.0,1.0,0.0]|\n",
            "|  4|Christine Williams| 58|Female|        IT|  5895|  2017-09-08|              2.0|        13|Inactive|Los Angeles|Evening|     8|        2.0|      1.0| [13.0,8.0,2.0,1.0]|\n",
            "|  5|      Amber Harris| 35| Other|        IT|  4317|  2020-02-15|              5.0|        16|Inactive|   New York|Evening|     5|        2.0|      0.0| [16.0,5.0,2.0,0.0]|\n",
            "|  6|       Ashley Howe| 29|Female|        HR|  2591|  2016-06-24|              1.0|         6|  Active|    Chicago|Evening|     9|        2.0|      1.0|  [6.0,9.0,2.0,1.0]|\n",
            "|  7|       David Olson| 39|Female|     Sales|  6826|  2023-05-11|              2.0|         4|  Active|   New York|  Night|     2|        0.0|      1.0|  [4.0,2.0,0.0,1.0]|\n",
            "|  8|      Amanda Baker| 52| Other|        HR|  6285|  2015-04-01|              2.0|         8|Inactive|    Chicago|Evening|    10|        2.0|      0.0| [8.0,10.0,2.0,0.0]|\n",
            "|  9|     Jeremy Wright| 63|Female|     Sales|  9862|  2024-02-07|              2.0|         3|Inactive|   New York|  Night|     1|        0.0|      1.0|  [3.0,1.0,0.0,1.0]|\n",
            "| 10|    Brian Faulkner| 30|  Male|        IT|  8202|  2018-05-26|              1.0|         9|  Active|Los Angeles|Morning|     7|        1.0|      2.0|  [9.0,7.0,1.0,2.0]|\n",
            "| 11|       Nicole Bell| 42|Female|     Sales|  5336|  2015-01-28|              3.0|         7|  Active|Los Angeles|Evening|    10|        2.0|      1.0| [7.0,10.0,2.0,1.0]|\n",
            "| 12| Rodney Richardson| 60| Other|        HR|  6908|  2015-03-14|              4.0|        19|  Active|    Chicago|  Night|    10|        0.0|      0.0|[19.0,10.0,0.0,0.0]|\n",
            "| 13|   Joshua Robinson| 61|  Male|        IT|  5688|  2020-06-21|              2.0|         4|Inactive|    Chicago|  Night|     5|        0.0|      2.0|  [4.0,5.0,0.0,2.0]|\n",
            "| 14| Benjamin Callahan| 34|  Male|        IT|  5593|  2019-06-23|              2.0|         2|Inactive|Los Angeles|  Night|     6|        0.0|      2.0|  [2.0,6.0,0.0,2.0]|\n",
            "| 15|Matthew Collins MD| 31|Female|     Sales|  8568|  2020-06-01|              2.0|        20|Inactive|Los Angeles|Evening|     5|        2.0|      1.0| [20.0,5.0,2.0,1.0]|\n",
            "| 16|       Gary Cooley| 62|  Male|        HR|  5386|  2017-07-25|              2.0|         2|Inactive|    Chicago|Morning|     8|        1.0|      2.0|  [2.0,8.0,1.0,2.0]|\n",
            "| 17|    Jonathan Perez| 59|  Male|        HR|  6586|  2019-02-19|              3.0|         7|Inactive|Los Angeles|Evening|     6|        2.0|      2.0|  [7.0,6.0,2.0,2.0]|\n",
            "| 18|Jacqueline Randall| 31|Female|        HR|  3519|  2018-05-18|              4.0|         6|  Active|   New York|Morning|     7|        1.0|      1.0|  [6.0,7.0,1.0,1.0]|\n",
            "| 19|    Nancy Stephens| 38|  Male|        HR|  9061|  2017-07-16|              5.0|        16|Inactive|    Chicago|  Night|     8|        0.0|      2.0| [16.0,8.0,0.0,2.0]|\n",
            "| 20|      Victoria Fox| 57|Female|        HR|  7251|  2023-06-07|              2.0|        10|  Active|Los Angeles|Evening|     2|        2.0|      1.0| [10.0,2.0,2.0,1.0]|\n",
            "+---+------------------+---+------+----------+------+------------+-----------------+----------+--------+-----------+-------+------+-----------+---------+-------------------+\n",
            "only showing top 20 rows\n",
            "\n"
          ]
        }
      ]
    },
    {
      "cell_type": "code",
      "source": [
        "train_df, test_df = df.randomSplit(weights=[0.8, 0.2], seed=42)"
      ],
      "metadata": {
        "id": "X47ZbR72icbn"
      },
      "execution_count": 51,
      "outputs": []
    },
    {
      "cell_type": "code",
      "source": [
        "from pyspark.ml.regression import LinearRegression\n",
        "\n",
        "lr = LinearRegression(featuresCol=\"features\", labelCol=\"Salary\")\n",
        "lr_model = lr.fit(train_df)\n",
        "\n",
        "\n",
        "\n",
        "\n"
      ],
      "metadata": {
        "id": "OnSMmqyUhduL"
      },
      "execution_count": 52,
      "outputs": []
    },
    {
      "cell_type": "markdown",
      "metadata": {
        "id": "b0923191"
      },
      "source": [
        "### 5. Model Training and Evaluation\n",
        "\n",
        "A Linear Regression model was trained to predict 'Salary' using the engineered features. The model's performance was evaluated on a test dataset using the following regression metrics:\n",
        "\n",
        "*   **Root Mean Squared Error (RMSE):** Measures the average magnitude of the errors.\n",
        "*   **Mean Absolute Error (MAE):** Measures the average absolute errors.\n",
        "*   **R-squared (R2):** Represents the proportion of the variance in the dependent variable that is predictable from the independent variables.\n",
        "\n",
        "Note: An \"accuracy\" metric was also calculated for demonstration purposes, but it is not a standard metric for regression models."
      ]
    },
    {
      "cell_type": "code",
      "metadata": {
        "colab": {
          "base_uri": "https://localhost:8080/"
        },
        "id": "3cc81109",
        "outputId": "2b17658c-21b5-4531-a8b2-abe775f95cde"
      },
      "source": [
        "from pyspark.ml.evaluation import RegressionEvaluator\n",
        "\n",
        "# Make predictions on the test data\n",
        "predictions = lr_model.transform(test_df)\n",
        "\n",
        "# Evaluate the model using RegressionEvaluator\n",
        "evaluator_rmse = RegressionEvaluator(labelCol=\"Salary\", predictionCol=\"prediction\", metricName=\"rmse\")\n",
        "evaluator_mae = RegressionEvaluator(labelCol=\"Salary\", predictionCol=\"prediction\", metricName=\"mae\")\n",
        "evaluator_r2 = RegressionEvaluator(labelCol=\"Salary\", predictionCol=\"prediction\", metricName=\"r2\")\n",
        "\n",
        "rmse = evaluator_rmse.evaluate(predictions)\n",
        "mae = evaluator_mae.evaluate(predictions)\n",
        "r2 = evaluator_r2.evaluate(predictions)\n",
        "\n",
        "print(f\"Root Mean Squared Error (RMSE): {rmse}\")\n",
        "print(f\"Mean Absolute Error (MAE): {mae}\")\n",
        "print(f\"R-squared (R2): {r2}\")"
      ],
      "execution_count": 53,
      "outputs": [
        {
          "output_type": "stream",
          "name": "stdout",
          "text": [
            "Root Mean Squared Error (RMSE): 2317.5245217697216\n",
            "Mean Absolute Error (MAE): 1991.8377118178098\n",
            "R-squared (R2): -0.001878853630638666\n"
          ]
        }
      ]
    }
  ]
}